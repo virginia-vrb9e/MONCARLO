{
 "cells": [
  {
   "cell_type": "markdown",
   "id": "45762487-d33f-486d-8e38-2cdea04e3528",
   "metadata": {},
   "source": [
    "# Final Project Report\n",
    "\n",
    "* Class: DS 5100\n",
    "* Student Name:\n",
    "* Student Net ID:\n",
    "* This URL: a URL to the notebook source of this document"
   ]
  },
  {
   "cell_type": "markdown",
   "id": "acf756c1-ecaa-41dc-b6ca-d566eb94560b",
   "metadata": {},
   "source": [
    "# Instructions\n",
    "\n",
    "Follow the instructions in the Final Project isntructions notebook and put evidence of your work in this notebook.\n",
    "\n",
    "Total points for each subsection under **Deliverables** and **Scenarios** are given in parentheses.\n",
    "\n",
    "Breakdowns of points within subsections are specified within subsection instructions as bulleted lists.\n",
    "\n",
    "This project is worth **50 points**."
   ]
  },
  {
   "cell_type": "markdown",
   "id": "89dc7a32-f682-4402-8c1e-b6ccdb3e0e39",
   "metadata": {},
   "source": [
    "# Deliverables"
   ]
  },
  {
   "cell_type": "markdown",
   "id": "d32cb273-9a40-4909-a7ce-51f6e4958d3c",
   "metadata": {},
   "source": [
    "## The Monte Carlo Module (10)\n",
    "\n",
    "- URL included, appropriately named (1).\n",
    "- Includes all three specified classes (3).\n",
    "- Includes at least all 12 specified methods (6; .5 each)."
   ]
  },
  {
   "cell_type": "markdown",
   "id": "f5f3b070-de9e-4de9-bfae-8974d184aa28",
   "metadata": {},
   "source": [
    "Put the URL to your GitHub repo here.\n",
    "\n",
    "Repo URL:"
   ]
  },
  {
   "cell_type": "markdown",
   "id": "162370fb-3729-4c85-b040-8c25b2c966d2",
   "metadata": {},
   "source": [
    "Paste a copyy of your module here.\n",
    "\n",
    "NOTE: Paste as text, not as code. Use triple backticks to wrap your code blocks."
   ]
  },
  {
   "cell_type": "code",
   "execution_count": 7,
   "id": "a0743efc-a785-4b5c-a9e6-b65d4507a67f",
   "metadata": {},
   "outputs": [],
   "source": [
    "# A code block with your classes."
   ]
  },
  {
   "cell_type": "markdown",
   "id": "6377727a-8f0a-491e-9f1c-d9dc225edd35",
   "metadata": {},
   "source": [
    "## Unitest Module (2)\n",
    "\n",
    "Paste a copy of your test module below.\n",
    "\n",
    "NOTE: Paste as text, not as code. Use triple backticks to wrap your code blocks.\n",
    "\n",
    "- All methods have at least one test method (1).\n",
    "- Each method employs one of Unittest's Assert methods (1)."
   ]
  },
  {
   "cell_type": "code",
   "execution_count": 2,
   "id": "14b878d8-258b-4cf2-ad88-b8ee90d43977",
   "metadata": {},
   "outputs": [],
   "source": [
    "# A code block with your test code."
   ]
  },
  {
   "cell_type": "markdown",
   "id": "3e058d03-29bc-408f-b36d-0605b4f4b8c0",
   "metadata": {
    "tags": []
   },
   "source": [
    "## Unittest Results (3)\n",
    "\n",
    "Put a copy of the results of running your tests from the command line here.\n",
    "\n",
    "Again, paste as text using triple backticks.\n",
    "\n",
    "- All 12 specified methods return OK (3; .25 each)."
   ]
  },
  {
   "cell_type": "raw",
   "id": "54691fd0-836c-43c7-adc9-4a09d8aa9ab2",
   "metadata": {
    "tags": []
   },
   "source": [
    "# A text block with the output of a successful test."
   ]
  },
  {
   "cell_type": "markdown",
   "id": "d9ffe8c5-eb2f-4ad1-af76-a46550e4c7ac",
   "metadata": {},
   "source": [
    "## Import (1)\n",
    "\n",
    "Import your module here. This import should refer to the code in your package directory.\n",
    "\n",
    "- Module successuflly imported (1)."
   ]
  },
  {
   "cell_type": "code",
   "execution_count": 36,
   "id": "a05dffb3-e6d6-4f78-9df4-5abd0cf74ca9",
   "metadata": {
    "tags": []
   },
   "outputs": [],
   "source": [
    "import os\n",
    "import moncarlo.moncarlo"
   ]
  },
  {
   "cell_type": "markdown",
   "id": "f30c4842-65b1-4556-98b6-3fe1a07e1371",
   "metadata": {},
   "source": [
    "## Help Docs (4)\n",
    "\n",
    "Show your docstring documentation by applying `help()` to your imported module.\n",
    "\n",
    "- All methods have a docstring (3; .25 each).\n",
    "- All classes have a docstring (1; .33 each)."
   ]
  },
  {
   "cell_type": "code",
   "execution_count": 35,
   "id": "bf4fbf1f-9885-471c-a0a6-e9ca90e160de",
   "metadata": {
    "tags": []
   },
   "outputs": [
    {
     "name": "stdout",
     "output_type": "stream",
     "text": [
      "Help on module moncarlo.moncarlo in moncarlo:\n",
      "\n",
      "NAME\n",
      "    moncarlo.moncarlo\n",
      "\n",
      "CLASSES\n",
      "    builtins.object\n",
      "        MonCarloAnalyzer\n",
      "        MonCarloDevice\n",
      "        MonCarloGame\n",
      "    \n",
      "    class MonCarloAnalyzer(builtins.object)\n",
      "     |  MonCarloAnalyzer(game)\n",
      "     |  \n",
      "     |  Purpose/Action:\n",
      "     |      Takes the results of a single MonCarloGame\n",
      "     |      computes descriptive statistical properties about it.\n",
      "     |      \n",
      "     |  Input:\n",
      "     |      - one game object createa with the MonCarloGame class\n",
      "     |      \n",
      "     |  Methods:\n",
      "     |      __init__:\n",
      "     |          game object as input parameter\n",
      "     |          \n",
      "     |      jackpot: (all faces of all devices are the same)\n",
      "     |          - takes no additional parameters\n",
      "     |          - computes how many times the game resulted in a jackpot\n",
      "     |          - returns an integer \n",
      "     |      \n",
      "     |      facecounts_per_roll:\n",
      "     |          - computes how many times a given face is rolled in each event\n",
      "     |          - returns a pandas dataframe of results\n",
      "     |          \n",
      "     |      combos:\n",
      "     |          - computes the distinct combinations of faces rolled, along with their counts\n",
      "     |          \n",
      "     |      permutations:\n",
      "     |          - computes the distinct permutations of faces rolled, along with their counts\n",
      "     |  \n",
      "     |  Methods defined here:\n",
      "     |  \n",
      "     |  __init__(self, game)\n",
      "     |      instantes the class with one MonCarloGame object\n",
      "     |  \n",
      "     |  combos(self)\n",
      "     |      computes the distinct combinations of faces rolled, along with their counts\n",
      "     |  \n",
      "     |  facecounts_per_roll(self)\n",
      "     |      computes how many times a given face is rolled in each event\n",
      "     |  \n",
      "     |  jackpot(self)\n",
      "     |      computes how many times the game resulted in a jackpot\n",
      "     |  \n",
      "     |  permutations(self)\n",
      "     |      computes the distinct permutations of faces rolled, along with their counts\n",
      "     |  \n",
      "     |  ----------------------------------------------------------------------\n",
      "     |  Data descriptors defined here:\n",
      "     |  \n",
      "     |  __dict__\n",
      "     |      dictionary for instance variables (if defined)\n",
      "     |  \n",
      "     |  __weakref__\n",
      "     |      list of weak references to the object (if defined)\n",
      "    \n",
      "    class MonCarloDevice(builtins.object)\n",
      "     |  MonCarloDevice(faces)\n",
      "     |  \n",
      "     |  Purpose/Action:\n",
      "     |      This class creates a game object/device for a Monte Carlo simulation. \n",
      "     |  \n",
      "     |  Input:\n",
      "     |        - takes a numpy array of sides for the device\n",
      "     |            - sides must be unique\n",
      "     |            - sides can be numbers or strings\n",
      "     |  Methods:\n",
      "     |      __init__: \n",
      "     |          instantiates a game device with the given np.array\n",
      "     |            - creates a game device with the face values of the array \n",
      "     |            - and a default face weight of 1.0\n",
      "     |    \n",
      "     |      change_facewt: \n",
      "     |          changes the weight of a specified side to create an unfair die\n",
      "     |            - takes 2 arguments: \n",
      "     |            (1) the face value to be changed  \n",
      "     |            (2) the new face-weight\n",
      "     |            \n",
      "     |      roll: \n",
      "     |          rolls the die\n",
      "     |            - takes integer parameter of how many times to roll the die (defaults to 1)\n",
      "     |        \n",
      "     |      current_state: \n",
      "     |            returns the die's current state as a pandas dataframe\n",
      "     |  \n",
      "     |  Methods defined here:\n",
      "     |  \n",
      "     |  __init__(self, faces)\n",
      "     |      instantiates the monte carlo device\n",
      "     |  \n",
      "     |  change_facewt(self, face, nwt)\n",
      "     |      changes the weight of one of the faces of the created game device\n",
      "     |      input must a face on the instantiated device and the new weight must be an integer\n",
      "     |  \n",
      "     |  current_state(self)\n",
      "     |      shows the game device's current state with its faces and face-weights\n",
      "     |  \n",
      "     |  roll(self, nrolls=1)\n",
      "     |      rolls the instantiated game device a specific number of times\n",
      "     |  \n",
      "     |  ----------------------------------------------------------------------\n",
      "     |  Data descriptors defined here:\n",
      "     |  \n",
      "     |  __dict__\n",
      "     |      dictionary for instance variables (if defined)\n",
      "     |  \n",
      "     |  __weakref__\n",
      "     |      list of weak references to the object (if defined)\n",
      "     |  \n",
      "     |  ----------------------------------------------------------------------\n",
      "     |  Data and other attributes defined here:\n",
      "     |  \n",
      "     |  img = array([[[227, 228, 223],\n",
      "     |          [226, 227, 222]...37, 234],\n",
      "     |     ...\n",
      "    \n",
      "    class MonCarloGame(builtins.object)\n",
      "     |  MonCarloGame(dice)\n",
      "     |  \n",
      "     |  Purpose:\n",
      "     |      Creates a game out of one or more instantiated game devices with identical faces:\n",
      "     |  \n",
      "     |  Input:\n",
      "     |      - one or more game devices created with the MonCarloDevice class\n",
      "     |      \n",
      "     |  Actions: \n",
      "     |      - rolls the dice together\n",
      "     |      - shows the user the results of the most recent roll/play\n",
      "     |      \n",
      "     |  Methods:\n",
      "     |      __init__\n",
      "     |          takes a single parameter:\n",
      "     |              - a list of already instantiated game devices with identical faces\n",
      "     |     \n",
      "     |      play:\n",
      "     |          takes an integer parameter for # of times the device(s) are to be rolled\n",
      "     |              - int()\n",
      "     |          saves the result of the play to a pandas dataframe\n",
      "     |      \n",
      "     |      show_results:\n",
      "     |          takes a single parameter:\n",
      "     |              - string: 'wide' or 'narrow'\n",
      "     |              - indicates the format of the returned data\n",
      "     |          returns the results of the play in the chosen format\n",
      "     |  \n",
      "     |  Methods defined here:\n",
      "     |  \n",
      "     |  __init__(self, dice)\n",
      "     |      instantiates MonCarloGame with the list of MonCarloGame objects\n",
      "     |  \n",
      "     |  play(self, nrolls)\n",
      "     |      rolls the game device(s) for a play\n",
      "     |  \n",
      "     |  show_results(self, format='wide')\n",
      "     |      returns the result of the play in 'wide' or 'narrow' format\n",
      "     |  \n",
      "     |  ----------------------------------------------------------------------\n",
      "     |  Data descriptors defined here:\n",
      "     |  \n",
      "     |  __dict__\n",
      "     |      dictionary for instance variables (if defined)\n",
      "     |  \n",
      "     |  __weakref__\n",
      "     |      list of weak references to the object (if defined)\n",
      "\n",
      "FILE\n",
      "    /sfs/gpfs/tardis/home/vrb9e/MONCARLO/moncarlo/moncarlo.py\n",
      "\n",
      "\n"
     ]
    }
   ],
   "source": [
    "help(moncarlo.moncarlo)"
   ]
  },
  {
   "cell_type": "markdown",
   "id": "a9defa84-b395-4966-bd1c-5c6c2bb7ed68",
   "metadata": {},
   "source": [
    "## `README.md` File (3)\n",
    "\n",
    "Provide link to the README.md file of your project's repo.\n",
    "\n",
    "- Metadata section or info present (1).\n",
    "- Synopsis section showing how each class is called (1). (All must be included.)\n",
    "- API section listing all classes and methods (1). (All must be included.)"
   ]
  },
  {
   "cell_type": "markdown",
   "id": "ee090b33-d593-48a0-bf35-e739cea0942c",
   "metadata": {},
   "source": [
    "URL: https://github.com/virginia-vrb9e/DS5100-project-repo/blob/main/README.md"
   ]
  },
  {
   "cell_type": "markdown",
   "id": "108604c8-8827-42ef-ab59-6b25428fc0ca",
   "metadata": {},
   "source": [
    "## Successful installation (2)\n",
    "\n",
    "Put a screenshot or paste a copy of a terminal session where you successfully install your module with pip.\n",
    "\n",
    "If pasting text, use a preformatted text block to show the results.\n",
    "\n",
    "- Installed with `pip` (1).\n",
    "- Successfully installed message appears (1)."
   ]
  },
  {
   "cell_type": "raw",
   "id": "1278db6a-aa53-4e5c-a749-93a87ab239e0",
   "metadata": {},
   "source": [
    "Using Rivannabash-4.4$ pip install -e .\n",
    "Defaulting to user installation because normal site-packages is not writeable\n",
    "Obtaining file:///sfs/gpfs/tardis/home/vrb9e/MONCARLO\n",
    "  Preparing metadata (setup.py) ... done\n",
    "Requirement already satisfied: numpy in /sfs/applications/202412_build/software/standard/core/miniforge/24.3.0-py3.11/lib/python3.11/site-packages (from moncarlo==1.0.0) (1.24.3)\n",
    "Requirement already satisfied: pandas in /sfs/applications/202412_build/software/standard/core/miniforge/24.3.0-py3.11/lib/python3.11/site-packages (from moncarlo==1.0.0) (1.5.3)\n",
    "Requirement already satisfied: matplotlib in /sfs/applications/202412_build/software/standard/core/miniforge/24.3.0-py3.11/lib/python3.11/site-packages (from moncarlo==1.0.0) (3.7.1)\n",
    "Requirement already satisfied: contourpy>=1.0.1 in /sfs/applications/202412_build/software/standard/core/miniforge/24.3.0-py3.11/lib/python3.11/site-packages (from matplotlib->moncarlo==1.0.0) (1.2.1)\n",
    "Requirement already satisfied: cycler>=0.10 in /sfs/applications/202412_build/software/standard/core/miniforge/24.3.0-py3.11/lib/python3.11/site-packages (from matplotlib->moncarlo==1.0.0) (0.12.1)\n",
    "Requirement already satisfied: fonttools>=4.22.0 in /sfs/applications/202412_build/software/standard/core/miniforge/24.3.0-py3.11/lib/python3.11/site-packages (from matplotlib->moncarlo==1.0.0) (4.53.1)\n",
    "Requirement already satisfied: kiwisolver>=1.0.1 in /sfs/applications/202412_build/software/standard/core/miniforge/24.3.0-py3.11/lib/python3.11/site-packages (from matplotlib->moncarlo==1.0.0) (1.4.5)\n",
    "Requirement already satisfied: packaging>=20.0 in /sfs/applications/202412_build/software/standard/core/miniforge/24.3.0-py3.11/lib/python3.11/site-packages (from matplotlib->moncarlo==1.0.0) (24.0)\n",
    "Requirement already satisfied: pillow>=6.2.0 in /sfs/applications/202412_build/software/standard/core/miniforge/24.3.0-py3.11/lib/python3.11/site-packages (from matplotlib->moncarlo==1.0.0) (9.4.0)\n",
    "Requirement already satisfied: pyparsing>=2.3.1 in /sfs/applications/202412_build/software/standard/core/miniforge/24.3.0-py3.11/lib/python3.11/site-packages (from matplotlib->moncarlo==1.0.0) (3.1.2)\n",
    "Requirement already satisfied: python-dateutil>=2.7 in /sfs/applications/202412_build/software/standard/core/miniforge/24.3.0-py3.11/lib/python3.11/site-packages (from matplotlib->moncarlo==1.0.0) (2.9.0)\n",
    "Requirement already satisfied: pytz>=2020.1 in /sfs/applications/202412_build/software/standard/core/miniforge/24.3.0-py3.11/lib/python3.11/site-packages (from pandas->moncarlo==1.0.0) (2024.1)\n",
    "Requirement already satisfied: six>=1.5 in /sfs/applications/202412_build/software/standard/core/miniforge/24.3.0-py3.11/lib/python3.11/site-packages (from python-dateutil>=2.7->matplotlib->moncarlo==1.0.0) (1.16.0)\n",
    "Installing collected packages: moncarlo\n",
    "  Attempting uninstall: moncarlo\n",
    "    Found existing installation: moncarlo 1.0.0\n",
    "    Uninstalling moncarlo-1.0.0:\n",
    "      Successfully uninstalled moncarlo-1.0.0\n",
    "  Running setup.py develop for moncarlo\n",
    "Successfully installed moncarlo-1.0.0\n",
    "bash-4.4$\n"
   ]
  },
  {
   "cell_type": "markdown",
   "id": "7c44695d-d1b3-4edf-9f94-e64d7446f199",
   "metadata": {},
   "source": [
    "# Scenarios\n",
    "\n",
    "Use code blocks to perform the tasks for each scenario.\n",
    "\n",
    "Be sure the outputs are visible before submitting."
   ]
  },
  {
   "cell_type": "markdown",
   "id": "e2479eae-6fc9-44cd-b8d7-9b22cb501f2a",
   "metadata": {
    "tags": []
   },
   "source": [
    "## Scenario 1: A 2-headed Coin (9)\n",
    "\n",
    "Task 1. Create a fair coin (with faces $H$ and $T$) and one unfair coin in which one of the faces has a weight of $5$ and the others $1$.\n",
    "\n",
    "- Fair coin created (1).\n",
    "- Unfair coin created with weight as specified (1)."
   ]
  },
  {
   "cell_type": "code",
   "execution_count": null,
   "id": "55ce498e-c75f-4425-9e3e-b635bd6cd9e1",
   "metadata": {},
   "outputs": [],
   "source": []
  },
  {
   "cell_type": "markdown",
   "id": "02b272ab-99da-4b6e-ac2a-555b73e09c07",
   "metadata": {},
   "source": [
    "Task 2. Play a game of $1000$ flips with two fair dice.\n",
    "\n",
    "- Play method called correclty and without error (1)."
   ]
  },
  {
   "cell_type": "code",
   "execution_count": null,
   "id": "65c92601-d32d-4326-b215-74953aee27f2",
   "metadata": {},
   "outputs": [],
   "source": []
  },
  {
   "cell_type": "markdown",
   "id": "7d9c3dc8-22c1-4cae-81fb-d68d774a05d1",
   "metadata": {},
   "source": [
    "Task 3. Play another game (using a new Game object) of $1000$ flips, this time using two unfair dice and one fair die. For the second unfair die, you can use the same die object twice in the list of dice you pass to the Game object.\n",
    "\n",
    "- New game object created (1).\n",
    "- Play method called correclty and without error (1)."
   ]
  },
  {
   "cell_type": "code",
   "execution_count": null,
   "id": "d4098bed-1eb2-4084-8d5e-9fda07c3be43",
   "metadata": {},
   "outputs": [],
   "source": []
  },
  {
   "cell_type": "markdown",
   "id": "f690ebfc-fe71-4eb2-976d-7ac80ca6c23f",
   "metadata": {},
   "source": [
    "Task 4. For each game, use an Analyzer object to determine the raw frequency of jackpots — i.e. getting either all $H$s or all $T$s.\n",
    "\n",
    "- Analyzer objecs instantiated for both games (1).\n",
    "- Raw frequencies reported for both (1)."
   ]
  },
  {
   "cell_type": "code",
   "execution_count": null,
   "id": "b26b8b7e-3be7-4476-a9a4-37d97536729e",
   "metadata": {},
   "outputs": [],
   "source": []
  },
  {
   "cell_type": "markdown",
   "id": "b73d233c-445e-40cd-8858-0c5e1f097105",
   "metadata": {},
   "source": [
    "Task 5. For each analyzer, compute relative frequency as the number of jackpots over the total number of rolls.\n",
    "\n",
    "- Both relative frequencies computed (1)."
   ]
  },
  {
   "cell_type": "code",
   "execution_count": null,
   "id": "9a96b31b-1b9d-496e-be3e-4bf83c45ec3a",
   "metadata": {},
   "outputs": [],
   "source": []
  },
  {
   "cell_type": "markdown",
   "id": "a6e1e734-7f5c-4721-8ba4-2f3a424cf984",
   "metadata": {},
   "source": [
    "Task 6. Show your results, comparing the two relative frequencies, in a simple bar chart.\n",
    "\n",
    "- Bar chart plotted and correct (1)."
   ]
  },
  {
   "cell_type": "code",
   "execution_count": null,
   "id": "473fa67c-aa53-4aa3-a0b7-e8772b3f6ed3",
   "metadata": {},
   "outputs": [],
   "source": []
  },
  {
   "cell_type": "markdown",
   "id": "725cfa5b-e4b7-47c9-86aa-8d9e1fe6c8c7",
   "metadata": {},
   "source": [
    "## Scenario 2: A 6-sided Die (9)\n",
    "\n",
    "Task 1. Create three dice, each with six sides having the faces 1 through 6.\n",
    "\n",
    "- Three die objects created (1)."
   ]
  },
  {
   "cell_type": "code",
   "execution_count": null,
   "id": "6a8bc611-325a-4e05-88d5-980e0a2cf7c5",
   "metadata": {},
   "outputs": [],
   "source": []
  },
  {
   "cell_type": "markdown",
   "id": "2ed3ad26-fbe9-43bd-9ad7-f683a4191d12",
   "metadata": {},
   "source": [
    "Task 2. Convert one of the dice to an unfair one by weighting the face $6$ five times more than the other weights (i.e. it has weight of 5 and the others a weight of 1 each).\n",
    "\n",
    "- Unfair die created with proper call to weight change method (1)."
   ]
  },
  {
   "cell_type": "code",
   "execution_count": null,
   "id": "e33dd18f-7f90-456d-a680-61c08a328e21",
   "metadata": {},
   "outputs": [],
   "source": []
  },
  {
   "cell_type": "markdown",
   "id": "7f6c062a-4c5b-45b9-96b8-76a0354c7e47",
   "metadata": {},
   "source": [
    "Task 3. Convert another of the dice to be unfair by weighting the face $1$ five times more than the others.\n",
    "\n",
    "- Unfair die created with proper call to weight change method (1)."
   ]
  },
  {
   "cell_type": "code",
   "execution_count": null,
   "id": "01133a4e-6b06-4246-8d90-8e6d6995be51",
   "metadata": {},
   "outputs": [],
   "source": []
  },
  {
   "cell_type": "markdown",
   "id": "f0ed31cb-0a3c-4eb2-b85e-6ed6b2eb6e58",
   "metadata": {},
   "source": [
    "Task 4. Play a game of $10000$ rolls with $5$ fair dice.\n",
    "\n",
    "- Game class properly instantiated (1). \n",
    "- Play method called properly (1)."
   ]
  },
  {
   "cell_type": "code",
   "execution_count": null,
   "id": "e92395a4-9ed8-4cb0-8c85-38768a784ffc",
   "metadata": {},
   "outputs": [],
   "source": []
  },
  {
   "cell_type": "markdown",
   "id": "7814b402-46a4-40e5-8141-20e05c3e646b",
   "metadata": {},
   "source": [
    "Task 5. Play another game of $10000$ rolls, this time with $2$ unfair dice, one as defined in steps #2 and #3 respectively, and $3$ fair dice.\n",
    "\n",
    "- Game class properly instantiated (1). \n",
    "- Play method called properly (1)."
   ]
  },
  {
   "cell_type": "code",
   "execution_count": null,
   "id": "7cd58fba-b2a5-4d5d-bc6d-2a7a68d18c4f",
   "metadata": {},
   "outputs": [],
   "source": []
  },
  {
   "cell_type": "markdown",
   "id": "7b6cd372-2bb8-4df8-ade1-8f48bc300955",
   "metadata": {},
   "source": [
    "Task 6. For each game, use an Analyzer object to determine the relative frequency of jackpots and show your results, comparing the two relative frequencies, in a simple bar chart.\n",
    "\n",
    "- Jackpot methods called (1).\n",
    "- Graph produced (1)."
   ]
  },
  {
   "cell_type": "code",
   "execution_count": null,
   "id": "bbdcf695-8937-406e-9b53-aa0b9ee3c59a",
   "metadata": {},
   "outputs": [],
   "source": []
  },
  {
   "cell_type": "markdown",
   "id": "9f04e9be-8fcf-4ea4-a391-6614608285f8",
   "metadata": {},
   "source": [
    "## Scenario 3: Letters of the Alphabet (7)\n",
    "\n",
    "Task 1. Create a \"die\" of letters from $A$ to $Z$ with weights based on their frequency of usage as found in the data file `english_letters.txt`. Use the frequencies (i.e. raw counts) as weights.\n",
    "\n",
    "- Die correctly instantiated with source file data (1).\n",
    "- Weights properly applied using weight setting method (1)."
   ]
  },
  {
   "cell_type": "code",
   "execution_count": null,
   "id": "b0ceb771-3cdf-4d8f-8c2c-020806bbb909",
   "metadata": {},
   "outputs": [],
   "source": []
  },
  {
   "cell_type": "markdown",
   "id": "88e2e14a-6223-470a-a2c8-bca1120d7a5b",
   "metadata": {},
   "source": [
    "Task 2. Play a game involving $4$ of these dice with $1000$ rolls.\n",
    "\n",
    "- Game play method properly called (1)."
   ]
  },
  {
   "cell_type": "code",
   "execution_count": null,
   "id": "2ae087cc-936d-4f1e-bddb-a7c179d139e0",
   "metadata": {},
   "outputs": [],
   "source": []
  },
  {
   "cell_type": "markdown",
   "id": "3b9ff800-bf1f-4f66-9d7f-ff57a648e9f0",
   "metadata": {},
   "source": [
    "Task 3. Determine how many permutations in your results are actual English words, based on the vocabulary found in `scrabble_words.txt`.\n",
    "\n",
    "- Use permutation method (1).\n",
    "- Get count as difference between permutations and vocabulary (1)."
   ]
  },
  {
   "cell_type": "code",
   "execution_count": null,
   "id": "ed1c7fa0-cfa3-4cf4-9fd0-9f84b86b0f64",
   "metadata": {},
   "outputs": [],
   "source": []
  },
  {
   "cell_type": "markdown",
   "id": "fcf068cf-381a-4b3e-ac3a-0510eb4dbdb0",
   "metadata": {},
   "source": [
    "Task 4. Repeat steps #2 and #3, this time with $5$ dice. How many actual words does this produce? Which produces more?\n",
    "\n",
    "- Successfully repreats steps (1).\n",
    "- Identifies parameter with most found words (1)."
   ]
  }
 ],
 "metadata": {
  "kernelspec": {
   "display_name": "Python 3",
   "language": "python",
   "name": "python3"
  },
  "language_info": {
   "codemirror_mode": {
    "name": "ipython",
    "version": 3
   },
   "file_extension": ".py",
   "mimetype": "text/x-python",
   "name": "python",
   "nbconvert_exporter": "python",
   "pygments_lexer": "ipython3",
   "version": "3.11.4"
  },
  "toc-autonumbering": true,
  "widgets": {
   "application/vnd.jupyter.widget-state+json": {
    "state": {},
    "version_major": 2,
    "version_minor": 0
   }
  }
 },
 "nbformat": 4,
 "nbformat_minor": 5
}
