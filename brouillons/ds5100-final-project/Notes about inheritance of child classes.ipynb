{
 "cells": [
  {
   "cell_type": "markdown",
   "id": "2118156b-eb06-40a9-b044-eb18f61d7383",
   "metadata": {},
   "source": [
    "passing a parameter to a child class that is previously instantiated dice that are similar"
   ]
  },
  {
   "cell_type": "code",
   "execution_count": null,
   "id": "50b14812-9861-45b6-a1d1-494719ce2a48",
   "metadata": {},
   "outputs": [],
   "source": [
    "class ParentClass:\n",
    "    def __init__(self, name, value):\n",
    "        self.name = name\n",
    "        self.value = value\n",
    "    \n",
    "    def some_method(self):\n",
    "        return self.value\n",
    "\n",
    "class ChildClass(ParentClass):\n",
    "    def __init__(self, name, value, object_list):\n",
    "        # Initialize the parent class first\n",
    "        super().__init__(name, value)\n",
    "        \n",
    "        # Store the list of objects\n",
    "        self.objects = object_list\n",
    "        \n",
    "    def process_objects(self):\n",
    "        # Do something with the objects\n",
    "        results = [obj.some_method() for obj in self.objects]\n",
    "        return results"
   ]
  },
  {
   "cell_type": "code",
   "execution_count": null,
   "id": "cbed2204-6982-498c-b8c1-37857c56e199",
   "metadata": {},
   "outputs": [],
   "source": [
    "class ChildClass(ParentClass):\n",
    "    def __init__(self, *parent_args, object_list=None, **parent_kwargs):\n",
    "        # Initialize the parent class\n",
    "        super().__init__(*parent_args, **parent_kwargs)\n",
    "        \n",
    "        # Store the list of objects, with a default empty list if None provided\n",
    "        self.objects = object_list if object_list is not None else []"
   ]
  },
  {
   "cell_type": "markdown",
   "id": "97527992-436d-46a3-a247-81f8f6fc049f",
   "metadata": {},
   "source": [
    "Key points about this pattern:\n",
    "\n",
    "- The child class calls the parent's initialization first using super().__init__()\n",
    "- It passes any necessary arguments to the parent constructor\n",
    "- It then handles its own additional parameters (in this case, the object list)\n",
    "- It's often good practice to provide a default (like an empty list) when the parameter isn't provided\n",
    "\n",
    "This pattern maintains proper inheritance while allowing the child class to work with its own collection of objects."
   ]
  },
  {
   "cell_type": "markdown",
   "id": "e4de2e7f-6c51-47c3-8eec-54449c03d9f6",
   "metadata": {},
   "source": [
    "**kwargs is a special syntax in Python that allows a function to accept any number of keyword arguments (arguments that are passed with a name).\n",
    "Here's what you need to know about **kwargs:\n",
    "\n",
    "The double asterisk (**) tells Python to collect all keyword arguments that aren't explicitly defined in the function signature into a dictionary.\n",
    "kwargs is just a convention - you could name it anything (like **parameters or **options), but **kwargs is standard and widely recognized.\n",
    "Inside the function, kwargs becomes a dictionary where the keys are the argument names and the values are the argument values.\n",
    "\n",
    "Basic example:"
   ]
  },
  {
   "cell_type": "code",
   "execution_count": null,
   "id": "ec47369d-40d7-4d1a-aad2-e43aa842e174",
   "metadata": {},
   "outputs": [],
   "source": [
    "def example_function(**kwargs):\n",
    "    print(kwargs)\n",
    "    # Access specific values\n",
    "    if 'name' in kwargs:\n",
    "        print(f\"Hello, {kwargs['name']}!\")\n",
    "\n",
    "# Call with keyword arguments\n",
    "example_function(name=\"Alice\", age=30, city=\"New York\")\n",
    "# Output: {'name': 'Alice', 'age': 30, 'city': 'New York'}\n",
    "# Output: Hello, Alice!"
   ]
  },
  {
   "cell_type": "markdown",
   "id": "4529a121-8567-4e2b-b44f-4a1bedd46dfe",
   "metadata": {},
   "source": [
    "This is particularly useful when:\n",
    "\n",
    "You don't know all the parameters in advance\n",
    "You want to pass different parameters to different function calls\n",
    "You're passing arguments through to another function\n",
    "You're creating flexible APIs\n",
    "\n",
    "In the context of class inheritance, **kwargs lets you pass any keyword arguments to the parent class constructor, which is especially helpful when you don't know or don't want to specify all the parameters the parent might need."
   ]
  },
  {
   "cell_type": "code",
   "execution_count": null,
   "id": "588a8add-6ca9-4300-9a8e-ccfbc7fcafba",
   "metadata": {},
   "outputs": [],
   "source": []
  }
 ],
 "metadata": {
  "kernelspec": {
   "display_name": "Python 3",
   "language": "python",
   "name": "python3"
  },
  "language_info": {
   "codemirror_mode": {
    "name": "ipython",
    "version": 3
   },
   "file_extension": ".py",
   "mimetype": "text/x-python",
   "name": "python",
   "nbconvert_exporter": "python",
   "pygments_lexer": "ipython3",
   "version": "3.11.4"
  }
 },
 "nbformat": 4,
 "nbformat_minor": 5
}
