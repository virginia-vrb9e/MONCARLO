{
 "cells": [
  {
   "cell_type": "markdown",
   "id": "7fc42316-7137-4c6a-b537-850c0d7c3719",
   "metadata": {},
   "source": [
    "change the weight of one side using dict structure"
   ]
  },
  {
   "cell_type": "code",
   "execution_count": null,
   "id": "a544b405-7686-4339-998a-3075ebdb3cd1",
   "metadata": {},
   "outputs": [],
   "source": [
    "        # return faces and weights in a private df w/ faces as index\n",
    "        col_names = ['weight']\n",
    "        self._gamestats = pd.DataFrame(\n",
    "            self.weights,\n",
    "            index = self.faces, columns = col_names)"
   ]
  },
  {
   "cell_type": "code",
   "execution_count": null,
   "id": "6d4be344-2e76-4a13-a201-8ece34a60680",
   "metadata": {},
   "outputs": [],
   "source": [
    "    # method: change the weight of a single side\n",
    "    def change_facewt(self, face, nwt):\n",
    "        self.nwt = float(nwt)\n",
    "        self.face = face\n",
    "        x = len(self.faces)"
   ]
  },
  {
   "cell_type": "code",
   "execution_count": 53,
   "id": "d1a8c505-0e69-4305-8c38-9c6f39985837",
   "metadata": {
    "tags": []
   },
   "outputs": [
    {
     "data": {
      "text/plain": [
       "{'A': 1.0, 'B': 1.0, 'C': 1.0, 'D': 1.0}"
      ]
     },
     "execution_count": 53,
     "metadata": {},
     "output_type": "execute_result"
    }
   ],
   "source": [
    "nwt = 5.0\n",
    "face = 'A'\n",
    "\n",
    "faces = ['A', 'B', 'C', 'D']\n",
    "weights = [1.0, 1.0, 1.0, 1.0]\n",
    "die_dict = dict(zip(faces, weights))\n",
    "\n",
    "die_dict"
   ]
  },
  {
   "cell_type": "code",
   "execution_count": 54,
   "id": "a0283203-dfec-4292-9c9c-73b1ce8dc96c",
   "metadata": {
    "tags": []
   },
   "outputs": [],
   "source": [
    "#         self._gamestats.replace(self._gamestats.loc[self.face], self.nwt) ## !!! this isn't changing the value\n",
    "\n",
    "\n",
    "die_dict[face] = 5.0"
   ]
  },
  {
   "cell_type": "code",
   "execution_count": 55,
   "id": "96e2eee3-ead0-4ff9-b9a8-6c75b4761b6e",
   "metadata": {
    "tags": []
   },
   "outputs": [
    {
     "data": {
      "text/plain": [
       "{'A': 5.0, 'B': 1.0, 'C': 1.0, 'D': 1.0}"
      ]
     },
     "execution_count": 55,
     "metadata": {},
     "output_type": "execute_result"
    }
   ],
   "source": [
    "die_dict"
   ]
  },
  {
   "cell_type": "markdown",
   "id": "b38819e7-fb0d-41d2-b5bf-12645a7172f9",
   "metadata": {},
   "source": [
    "4/15: \n",
    "I think the solution is to change it to a dictionary and then it's easier to work with. \n",
    "Llike popping a column in and out as index, you can toggle back and forth between forms of pd.df and dict. "
   ]
  },
  {
   "cell_type": "code",
   "execution_count": 56,
   "id": "42bc1127-57e4-45dc-b421-8937fa7586f9",
   "metadata": {
    "tags": []
   },
   "outputs": [
    {
     "data": {
      "text/html": [
       "<div>\n",
       "<style scoped>\n",
       "    .dataframe tbody tr th:only-of-type {\n",
       "        vertical-align: middle;\n",
       "    }\n",
       "\n",
       "    .dataframe tbody tr th {\n",
       "        vertical-align: top;\n",
       "    }\n",
       "\n",
       "    .dataframe thead th {\n",
       "        text-align: right;\n",
       "    }\n",
       "</style>\n",
       "<table border=\"1\" class=\"dataframe\">\n",
       "  <thead>\n",
       "    <tr style=\"text-align: right;\">\n",
       "      <th></th>\n",
       "      <th>0</th>\n",
       "    </tr>\n",
       "  </thead>\n",
       "  <tbody>\n",
       "    <tr>\n",
       "      <th>A</th>\n",
       "      <td>5.0</td>\n",
       "    </tr>\n",
       "    <tr>\n",
       "      <th>B</th>\n",
       "      <td>1.0</td>\n",
       "    </tr>\n",
       "    <tr>\n",
       "      <th>C</th>\n",
       "      <td>1.0</td>\n",
       "    </tr>\n",
       "    <tr>\n",
       "      <th>D</th>\n",
       "      <td>1.0</td>\n",
       "    </tr>\n",
       "  </tbody>\n",
       "</table>\n",
       "</div>"
      ],
      "text/plain": [
       "     0\n",
       "A  5.0\n",
       "B  1.0\n",
       "C  1.0\n",
       "D  1.0"
      ]
     },
     "execution_count": 56,
     "metadata": {},
     "output_type": "execute_result"
    }
   ],
   "source": [
    "import pandas as pd\n",
    "die_df = pd.DataFrame.from_dict(die_dict, orient = 'index')\n",
    "die_df"
   ]
  },
  {
   "cell_type": "code",
   "execution_count": 57,
   "id": "9b6abdcf-4698-4d73-8beb-1ba0b153c3a7",
   "metadata": {
    "tags": []
   },
   "outputs": [
    {
     "data": {
      "text/html": [
       "<div>\n",
       "<style scoped>\n",
       "    .dataframe tbody tr th:only-of-type {\n",
       "        vertical-align: middle;\n",
       "    }\n",
       "\n",
       "    .dataframe tbody tr th {\n",
       "        vertical-align: top;\n",
       "    }\n",
       "\n",
       "    .dataframe thead th {\n",
       "        text-align: right;\n",
       "    }\n",
       "</style>\n",
       "<table border=\"1\" class=\"dataframe\">\n",
       "  <thead>\n",
       "    <tr style=\"text-align: right;\">\n",
       "      <th></th>\n",
       "      <th>index</th>\n",
       "      <th>0</th>\n",
       "    </tr>\n",
       "  </thead>\n",
       "  <tbody>\n",
       "    <tr>\n",
       "      <th>0</th>\n",
       "      <td>A</td>\n",
       "      <td>5.0</td>\n",
       "    </tr>\n",
       "    <tr>\n",
       "      <th>1</th>\n",
       "      <td>B</td>\n",
       "      <td>1.0</td>\n",
       "    </tr>\n",
       "    <tr>\n",
       "      <th>2</th>\n",
       "      <td>C</td>\n",
       "      <td>1.0</td>\n",
       "    </tr>\n",
       "    <tr>\n",
       "      <th>3</th>\n",
       "      <td>D</td>\n",
       "      <td>1.0</td>\n",
       "    </tr>\n",
       "  </tbody>\n",
       "</table>\n",
       "</div>"
      ],
      "text/plain": [
       "  index    0\n",
       "0     A  5.0\n",
       "1     B  1.0\n",
       "2     C  1.0\n",
       "3     D  1.0"
      ]
     },
     "execution_count": 57,
     "metadata": {},
     "output_type": "execute_result"
    }
   ],
   "source": [
    "die_2col_df = die_df.reset_index()\n",
    "die_2col_df"
   ]
  },
  {
   "cell_type": "code",
   "execution_count": 58,
   "id": "fbff4bc9-2963-4c30-b046-f69806e94244",
   "metadata": {
    "tags": []
   },
   "outputs": [],
   "source": [
    "die_dict2 = die_df.to_dict('index')"
   ]
  },
  {
   "cell_type": "code",
   "execution_count": 59,
   "id": "51a32619-6c56-48a4-b75c-ed3d1e580fde",
   "metadata": {
    "tags": []
   },
   "outputs": [
    {
     "data": {
      "text/plain": [
       "{'A': {0: 5.0}, 'B': {0: 1.0}, 'C': {0: 1.0}, 'D': {0: 1.0}}"
      ]
     },
     "execution_count": 59,
     "metadata": {},
     "output_type": "execute_result"
    }
   ],
   "source": [
    "die_dict2"
   ]
  },
  {
   "cell_type": "code",
   "execution_count": 60,
   "id": "7991fc9c-7460-456a-8113-b045e7e4a5dc",
   "metadata": {
    "tags": []
   },
   "outputs": [
    {
     "data": {
      "text/plain": [
       "{'A': {0: 5.0}, 'B': 5.0, 'C': {0: 1.0}, 'D': {0: 1.0}}"
      ]
     },
     "execution_count": 60,
     "metadata": {},
     "output_type": "execute_result"
    }
   ],
   "source": [
    "# die_dict[face] = 5.0\n",
    "\n",
    "die_dict2['B'] = 5.0\n",
    "die_dict2\n",
    "\n",
    "# it might be necessary to change all of them again. "
   ]
  },
  {
   "cell_type": "code",
   "execution_count": 62,
   "id": "41c0be93-b63c-42b0-87a0-6a6a6d585cb0",
   "metadata": {
    "tags": []
   },
   "outputs": [
    {
     "data": {
      "text/plain": [
       "{0: 5.0}"
      ]
     },
     "execution_count": 62,
     "metadata": {},
     "output_type": "execute_result"
    }
   ],
   "source": [
    "die_dict2['A']"
   ]
  },
  {
   "cell_type": "code",
   "execution_count": null,
   "id": "b897967a-3b2b-4d01-beb7-171a3081ca37",
   "metadata": {},
   "outputs": [],
   "source": []
  }
 ],
 "metadata": {
  "kernelspec": {
   "display_name": "Python 3",
   "language": "python",
   "name": "python3"
  },
  "language_info": {
   "codemirror_mode": {
    "name": "ipython",
    "version": 3
   },
   "file_extension": ".py",
   "mimetype": "text/x-python",
   "name": "python",
   "nbconvert_exporter": "python",
   "pygments_lexer": "ipython3",
   "version": "3.11.4"
  }
 },
 "nbformat": 4,
 "nbformat_minor": 5
}
