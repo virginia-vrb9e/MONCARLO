{
 "cells": [
  {
   "cell_type": "code",
   "execution_count": 308,
   "id": "06241b08-8e0c-47df-a1ee-a3892564a4b3",
   "metadata": {
    "tags": []
   },
   "outputs": [],
   "source": [
    "import pandas as pd\n",
    "import numpy as np\n",
    "import matplotlib.image as mpimg\n",
    "import matplotlib.pyplot as plt\n",
    "\n",
    "# The Die class\n",
    "class MonCarloDevice():\n",
    "    \n",
    "#    img = mpimg.imread('d20_met_nyc.jpg')\n",
    "#    plt.imshow(img)\n",
    "#    print(\"THE MET Museum: \\nicosahedron with faces inscribed with Greek letters \\nPtolemaic Period–Roman Period\\n(2nd century B.C.– 4th century A.D.)\")\n",
    "#    print(\"Read about this ancient Monte Carlo device: https://www.metmuseum.org/art/collection/search/551072\")\n",
    "    \n",
    "    # method: the initializer\n",
    "    \n",
    "    def __init__(self, faces):\n",
    "        self.faces = faces\n",
    "        print(type(faces))\n",
    "            \n",
    "            \n",
    "        # check that faces is np.array\n",
    "        if not isinstance(faces, np.ndarray):  \n",
    "            raise TypeError(\"Input of faces must be an NumPy array.\") \n",
    "        else:\n",
    "            print(\"yes, this is an np.ndarray!\")\n",
    "            \n",
    "            \n",
    "        # check that faces are strings or numbers\n",
    "                # https://github.com/numpy/numpy/issues/17325\n",
    "                # https://stackoverflow.com/questions/30086936/what-is-the-difference-between-the-types-type-numpy-string-and-type-str\n",
    "        x = len(self.faces)\n",
    "        for i in range(x):\n",
    "            if not isinstance(self.faces[i], (str)):\n",
    "                float(i)\n",
    "                print(\"switched to float\")\n",
    "            else:\n",
    "                print(\"check ok: this face is either a string or number.\") \n",
    "    \n",
    "    \n",
    "        # check that faces are unique values \n",
    "        uniq = np.unique(faces)  # np.unique returns array of unique values\n",
    "        if len(uniq) != len(faces):\n",
    "            raise ValueError(\"The NumPy array of faces for your device must be of unique values.\")\n",
    "\n",
    "\n",
    "        # initiate the weights as 1.0   \n",
    "        self.weights = []\n",
    "        self.num_faces = len(faces)\n",
    "        x = len(self.faces)\n",
    "        for i in range(x):\n",
    "            self.weights.append(1.0)\n",
    "#        self.weights.extend(1.0 * x) for... # replace for loop with comprehension?\n",
    "    \n",
    "        # return faces and weights in a private df w/ faces as index\n",
    "        col_names = ['weight']\n",
    "        self._gamestats = pd.DataFrame(\n",
    "            self.weights,\n",
    "            index = self.faces, \n",
    "            columns = col_names\n",
    "        ).rename_axis(index='faces')\n",
    "            \n",
    "            \n",
    "    # method: change the weight of a single side\n",
    "    def change_facewt(self, face, nwt):\n",
    "        self.nwt = float(nwt)\n",
    "        self.face = face\n",
    "        x = len(self.faces)\n",
    "\n",
    "        # checks to see if face passed is valid - if it's in the die array | IndexError\n",
    "        is_in = np.isin(self.faces, self.face)\n",
    "        for _ in is_in:\n",
    "            if self.face not in self.faces: \n",
    "                raise IndexError(f\"{face} is not a face on this device.\")\n",
    "            else:\n",
    "                print(\"check okay: that face exists.\")\n",
    "                \n",
    "        # check if nwt is int or float - OR castable | TypeError\n",
    "        if not isinstance(nwt, (int, float)):\n",
    "            try:\n",
    "                nwt = float(nwt)  \n",
    "            except:\n",
    "                raise TypeError(\"New weight must be numeric.\")\n",
    "       \n",
    "    # change the weight of self.fac\n",
    "    \n",
    "        \n",
    "\n",
    "    \n",
    "    # method: roll the die one or more times\n",
    "    def roll_ntimes(self, ntimes = 1):\n",
    "        rolls = []\n",
    " \n",
    "        for index in self._gamestats.iterrows():\n",
    "#            rolls.append(self.faces.sample(replace = True))  \n",
    "            rolls.append(index[0])\n",
    "        return rolls\n",
    " \n",
    "\n",
    "\n",
    "    # method: roll the device one or more times\n",
    "    def roll_ntimes(self, ntimes = 1):\n",
    "        rolls = []\n",
    "        \n",
    "        for i in range(ntimes):\n",
    "            rolls.append(self._gamestats.sample(replace = True))  \n",
    "        return rolls\n",
    "\n",
    "\n",
    "    \n",
    "    # method: show die's current state\n",
    "    def check(self):                      # !!!!\n",
    "        return self._gamestats()"
   ]
  },
  {
   "cell_type": "code",
   "execution_count": 309,
   "id": "1fe24e04-6c18-4302-8bd3-014e8c0baebd",
   "metadata": {
    "tags": []
   },
   "outputs": [
    {
     "name": "stdout",
     "output_type": "stream",
     "text": [
      "<class 'numpy.ndarray'>\n",
      "yes, this is an np.ndarray!\n",
      "check ok: this face is either a string or number.\n",
      "check ok: this face is either a string or number.\n",
      "check ok: this face is either a string or number.\n",
      "check ok: this face is either a string or number.\n"
     ]
    }
   ],
   "source": [
    "a = np.array(['x', 'y', 'z', 'delta'])\n",
    "\n",
    "die133 = MonCarloDevice(a)"
   ]
  },
  {
   "cell_type": "code",
   "execution_count": 310,
   "id": "e197e4f1-fc9b-4840-ba8e-234bf1e6cb11",
   "metadata": {
    "tags": []
   },
   "outputs": [
    {
     "data": {
      "text/plain": [
       "['x', 'y', 'z', 'delta']"
      ]
     },
     "execution_count": 310,
     "metadata": {},
     "output_type": "execute_result"
    }
   ],
   "source": [
    "die133.roll_ntimes(8)"
   ]
  },
  {
   "cell_type": "code",
   "execution_count": 311,
   "id": "d6188373-02a6-4acb-b2a1-491cf457b5f9",
   "metadata": {
    "tags": []
   },
   "outputs": [
    {
     "data": {
      "text/html": [
       "<div>\n",
       "<style scoped>\n",
       "    .dataframe tbody tr th:only-of-type {\n",
       "        vertical-align: middle;\n",
       "    }\n",
       "\n",
       "    .dataframe tbody tr th {\n",
       "        vertical-align: top;\n",
       "    }\n",
       "\n",
       "    .dataframe thead th {\n",
       "        text-align: right;\n",
       "    }\n",
       "</style>\n",
       "<table border=\"1\" class=\"dataframe\">\n",
       "  <thead>\n",
       "    <tr style=\"text-align: right;\">\n",
       "      <th></th>\n",
       "      <th>weight</th>\n",
       "    </tr>\n",
       "    <tr>\n",
       "      <th>faces</th>\n",
       "      <th></th>\n",
       "    </tr>\n",
       "  </thead>\n",
       "  <tbody>\n",
       "    <tr>\n",
       "      <th>x</th>\n",
       "      <td>1.0</td>\n",
       "    </tr>\n",
       "    <tr>\n",
       "      <th>y</th>\n",
       "      <td>1.0</td>\n",
       "    </tr>\n",
       "    <tr>\n",
       "      <th>z</th>\n",
       "      <td>1.0</td>\n",
       "    </tr>\n",
       "    <tr>\n",
       "      <th>delta</th>\n",
       "      <td>1.0</td>\n",
       "    </tr>\n",
       "  </tbody>\n",
       "</table>\n",
       "</div>"
      ],
      "text/plain": [
       "       weight\n",
       "faces        \n",
       "x         1.0\n",
       "y         1.0\n",
       "z         1.0\n",
       "delta     1.0"
      ]
     },
     "execution_count": 311,
     "metadata": {},
     "output_type": "execute_result"
    }
   ],
   "source": [
    "die133._gamestats"
   ]
  },
  {
   "cell_type": "code",
   "execution_count": 312,
   "id": "61c10985-5212-49f9-b5af-13bb92e23426",
   "metadata": {
    "tags": []
   },
   "outputs": [
    {
     "name": "stdout",
     "output_type": "stream",
     "text": [
      "check okay: that face exists.\n",
      "check okay: that face exists.\n",
      "check okay: that face exists.\n",
      "check okay: that face exists.\n"
     ]
    }
   ],
   "source": [
    "die133.change_facewt('y', 10)"
   ]
  },
  {
   "cell_type": "code",
   "execution_count": 313,
   "id": "7b637874-f86e-48cc-88de-070fcf55ff72",
   "metadata": {
    "tags": []
   },
   "outputs": [
    {
     "data": {
      "text/html": [
       "<div>\n",
       "<style scoped>\n",
       "    .dataframe tbody tr th:only-of-type {\n",
       "        vertical-align: middle;\n",
       "    }\n",
       "\n",
       "    .dataframe tbody tr th {\n",
       "        vertical-align: top;\n",
       "    }\n",
       "\n",
       "    .dataframe thead th {\n",
       "        text-align: right;\n",
       "    }\n",
       "</style>\n",
       "<table border=\"1\" class=\"dataframe\">\n",
       "  <thead>\n",
       "    <tr style=\"text-align: right;\">\n",
       "      <th></th>\n",
       "      <th>weight</th>\n",
       "    </tr>\n",
       "    <tr>\n",
       "      <th>faces</th>\n",
       "      <th></th>\n",
       "    </tr>\n",
       "  </thead>\n",
       "  <tbody>\n",
       "    <tr>\n",
       "      <th>x</th>\n",
       "      <td>1.0</td>\n",
       "    </tr>\n",
       "    <tr>\n",
       "      <th>y</th>\n",
       "      <td>1.0</td>\n",
       "    </tr>\n",
       "    <tr>\n",
       "      <th>z</th>\n",
       "      <td>1.0</td>\n",
       "    </tr>\n",
       "    <tr>\n",
       "      <th>delta</th>\n",
       "      <td>1.0</td>\n",
       "    </tr>\n",
       "  </tbody>\n",
       "</table>\n",
       "</div>"
      ],
      "text/plain": [
       "       weight\n",
       "faces        \n",
       "x         1.0\n",
       "y         1.0\n",
       "z         1.0\n",
       "delta     1.0"
      ]
     },
     "execution_count": 313,
     "metadata": {},
     "output_type": "execute_result"
    }
   ],
   "source": [
    "die133._gamestats"
   ]
  },
  {
   "cell_type": "code",
   "execution_count": 314,
   "id": "b5658149-fcf0-4d61-88c3-9c61d5099457",
   "metadata": {},
   "outputs": [
    {
     "data": {
      "text/plain": [
       "<bound method MonCarloDevice.check of <__main__.MonCarloDevice object at 0x7f6d969ac3d0>>"
      ]
     },
     "execution_count": 314,
     "metadata": {},
     "output_type": "execute_result"
    }
   ],
   "source": [
    "die133.check"
   ]
  },
  {
   "cell_type": "code",
   "execution_count": null,
   "id": "bd452151-6645-48d2-a125-a3c2a893644d",
   "metadata": {},
   "outputs": [],
   "source": []
  },
  {
   "cell_type": "code",
   "execution_count": null,
   "id": "7504f20e-0270-4865-90d4-977575213f8d",
   "metadata": {},
   "outputs": [],
   "source": []
  }
 ],
 "metadata": {
  "kernelspec": {
   "display_name": "Python 3",
   "language": "python",
   "name": "python3"
  },
  "language_info": {
   "codemirror_mode": {
    "name": "ipython",
    "version": 3
   },
   "file_extension": ".py",
   "mimetype": "text/x-python",
   "name": "python",
   "nbconvert_exporter": "python",
   "pygments_lexer": "ipython3",
   "version": "3.11.4"
  }
 },
 "nbformat": 4,
 "nbformat_minor": 5
}
