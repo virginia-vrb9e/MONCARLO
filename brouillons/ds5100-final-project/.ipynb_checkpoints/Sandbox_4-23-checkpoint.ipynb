{
 "cells": [
  {
   "cell_type": "code",
   "execution_count": 431,
   "id": "1130d169-c0d5-472b-b159-53bc01bf7518",
   "metadata": {
    "tags": []
   },
   "outputs": [],
   "source": [
    "import pandas as pd\n",
    "import numpy as np\n",
    "import matplotlib.image as mpimg\n",
    "import matplotlib.pyplot as plt\n",
    "\n",
    "# The Die class\n",
    "class MonCarloDevice():\n",
    "    \n",
    "#    img = mpimg.imread('d20_met_nyc.jpg')\n",
    "#    plt.imshow(img)\n",
    "#    print(\"THE MET Museum: \\nicosahedron with faces inscribed with Greek letters \\nPtolemaic Period–Roman Period\\n(2nd century B.C.– 4th century A.D.)\")\n",
    "#    print(\"Read about this ancient Monte Carlo device: https://www.metmuseum.org/art/collection/search/551072\")\n",
    "    \n",
    "    # method: the initializer\n",
    "    \n",
    "    def __init__(self, faces):\n",
    "        self.faces = faces\n",
    "        print(type(faces))\n",
    "            \n",
    "        # check that faces is np.array\n",
    "    \n",
    "        if not isinstance(faces, np.ndarray):  \n",
    "            raise TypeError(\"Input of faces must be an NumPy array.\") \n",
    "        else:\n",
    "            print(\"yes, this is an np.ndarray!\")\n",
    "            \n",
    "            \n",
    "        # check that faces are strings or numbers\n",
    "        # https://github.com/numpy/numpy/issues/17325\n",
    "        # https://stackoverflow.com/questions/30086936/what-is-the-difference-between-the-types-type-numpy-string-and-type-str\n",
    "        \n",
    "        x = len(self.faces)\n",
    "        for i in range(x):\n",
    "            if not isinstance(self.faces[i], (str)):\n",
    "                float(i)\n",
    "                print(\"switched to float\")\n",
    "            else:\n",
    "                print(\"check ok: this face is either a string or number.\") \n",
    "            \n",
    "#        if not isinstance(self.faces,(np.integer, np.floating, np.string_)):\n",
    "#            raise TypeError(\"face values must be either strings or numbers.\")\n",
    "#        else:\n",
    "#            print(\"check ok: all face values are either strings or numbers\")         \n",
    "         \n",
    "        # check that faces are unique values \n",
    "        \n",
    "        uniq = np.unique(faces)  # np.unique returns array of unique values\n",
    "        if len(uniq) != len(faces):\n",
    "             raise ValueError(\"The NumPy array of faces for your device must be of unique values.\")\n",
    " \n",
    "        # initiate the weights as 1.0   \n",
    "        \n",
    "        self.weights = []\n",
    "        self.num_faces = len(faces)\n",
    "        x = len(self.faces)\n",
    "        \n",
    "        for i in range(x):\n",
    "            self.weights.append(1.0)\n",
    "        \n",
    "        # return faces and weights in a private df w/ faces as index\n",
    "        \n",
    "        self._gamestats = pd.DataFrame(\n",
    "            self.weights,\n",
    "            index = self.faces)\n",
    "            \n",
    "    # method: change the weight of a single side\n",
    "    def change_facewt(self, face, nwt):\n",
    "        self.nwt = nwt\n",
    "        self.face = face\n",
    "        x = len(self.faces)\n",
    "\n",
    "        # checks to see if face passed is valid - if it's in the die array | IndexError\n",
    "        is_in = np.isin(self.faces, self.face)\n",
    "        for i in is_in:\n",
    "            if self.face not in self.faces: \n",
    "                raise IndexError(f\"{face} is not a face on this device.\")\n",
    "            else:\n",
    "                print(\"check okay: that face exists.\")\n",
    "            \n",
    "        # check if nwt is int or float - OR castable | TypeError\n",
    "        if not isinstance(nwt, (int, float)):\n",
    "            float(nwt)  # hopefully checks if the input is castable by attempting; returns ValueError if not castable\n",
    "        if not isinstance(nwt, float):\n",
    "            raise TypeError(\"New weight must be numeric.\")\n",
    "            \n",
    "        self._gamestats.replace(self._gamestats.loc[face], self.nwt) ## !!! this isn't changing the value\n",
    "    \n",
    "    # method: roll the device one or more times\n",
    "    def roll_ntimes(self, ntimes = 1):\n",
    "        rolls = []\n",
    "        \n",
    "        for i in range(ntimes):\n",
    "            rolls.append(self._gamestats.sample(replace = True))  \n",
    "        return rolls\n",
    "    \n",
    "    # method: show the device's current state\n",
    "    def current_state(self):\n",
    "        print(pd.DataFrame(self._gamestats))\n",
    "    "
   ]
  },
  {
   "cell_type": "code",
   "execution_count": 432,
   "id": "0ee900a4-5af6-4d2a-a15a-3bfbe56c5a17",
   "metadata": {
    "tags": []
   },
   "outputs": [
    {
     "name": "stdout",
     "output_type": "stream",
     "text": [
      "<class 'numpy.ndarray'>\n",
      "yes, this is an np.ndarray!\n",
      "check ok: this face is either a string or number.\n",
      "check ok: this face is either a string or number.\n",
      "check ok: this face is either a string or number.\n",
      "check ok: this face is either a string or number.\n",
      "check ok: this face is either a string or number.\n"
     ]
    },
    {
     "data": {
      "text/plain": [
       "[     0\n",
       " E  1.0,\n",
       "      0\n",
       " G  1.0,\n",
       "      0\n",
       " E  1.0,\n",
       "      0\n",
       " G  1.0,\n",
       "      0\n",
       " F  1.0,\n",
       "      0\n",
       " E  1.0,\n",
       "      0\n",
       " D  1.0,\n",
       "      0\n",
       " E  1.0,\n",
       "      0\n",
       " H  1.0,\n",
       "      0\n",
       " G  1.0]"
      ]
     },
     "execution_count": 432,
     "metadata": {},
     "output_type": "execute_result"
    }
   ],
   "source": [
    "sig = np.array(['D','E','F','G','H','I'])\n",
    "die_8 = MonCarloDevice(sig)\n",
    "die_8.roll_ntimes(10)"
   ]
  },
  {
   "cell_type": "code",
   "execution_count": 434,
   "id": "c59aac26-e2ec-4297-8eda-0eb98419c329",
   "metadata": {
    "tags": []
   },
   "outputs": [
    {
     "data": {
      "text/plain": [
       "<bound method MonCarloDevice.current_state of <__main__.MonCarloDevice object at 0x7f7df400a990>>"
      ]
     },
     "execution_count": 434,
     "metadata": {},
     "output_type": "execute_result"
    }
   ],
   "source": [
    "die_8.current_state"
   ]
  },
  {
   "cell_type": "code",
   "execution_count": null,
   "id": "9e6c61b9-6440-48d0-8cc2-193557cd68f1",
   "metadata": {},
   "outputs": [],
   "source": []
  },
  {
   "cell_type": "code",
   "execution_count": null,
   "id": "863731e7-b45d-4f1c-81b6-a557f7a29f97",
   "metadata": {},
   "outputs": [],
   "source": []
  },
  {
   "cell_type": "code",
   "execution_count": null,
   "id": "8739c517-eeb7-468d-afbe-5ea057d4634d",
   "metadata": {},
   "outputs": [],
   "source": []
  },
  {
   "cell_type": "code",
   "execution_count": null,
   "id": "fa041f2a-6983-4ac5-95d3-7cb802f833cc",
   "metadata": {},
   "outputs": [],
   "source": []
  },
  {
   "cell_type": "code",
   "execution_count": null,
   "id": "25e03e80-dbb6-4cb4-a374-41a7bbcd5da7",
   "metadata": {},
   "outputs": [],
   "source": []
  },
  {
   "cell_type": "code",
   "execution_count": null,
   "id": "6bc0a55f-7a74-4610-b97c-2ef11c4e3e6c",
   "metadata": {},
   "outputs": [],
   "source": []
  },
  {
   "cell_type": "markdown",
   "id": "6af6b6b9-7735-4bd9-9e4a-63888a1ddad3",
   "metadata": {},
   "source": [
    "Testing Die class method: **change_facewt**:"
   ]
  },
  {
   "cell_type": "code",
   "execution_count": 399,
   "id": "944192f4-7c20-48be-a4cb-2af41372d3db",
   "metadata": {
    "tags": []
   },
   "outputs": [
    {
     "data": {
      "text/plain": [
       "numpy.ndarray"
      ]
     },
     "execution_count": 399,
     "metadata": {},
     "output_type": "execute_result"
    }
   ],
   "source": [
    "type(e)"
   ]
  },
  {
   "cell_type": "code",
   "execution_count": 403,
   "id": "25987f2e-a91b-443d-ac62-dcbc6e32fef7",
   "metadata": {
    "tags": []
   },
   "outputs": [
    {
     "name": "stdout",
     "output_type": "stream",
     "text": [
      "<class 'numpy.ndarray'>\n",
      "yes, this is an np.ndarray!\n",
      "check ok: this face is either a string or number.\n",
      "check ok: this face is either a string or number.\n",
      "check ok: this face is either a string or number.\n"
     ]
    },
    {
     "data": {
      "text/html": [
       "<div>\n",
       "<style scoped>\n",
       "    .dataframe tbody tr th:only-of-type {\n",
       "        vertical-align: middle;\n",
       "    }\n",
       "\n",
       "    .dataframe tbody tr th {\n",
       "        vertical-align: top;\n",
       "    }\n",
       "\n",
       "    .dataframe thead th {\n",
       "        text-align: right;\n",
       "    }\n",
       "</style>\n",
       "<table border=\"1\" class=\"dataframe\">\n",
       "  <thead>\n",
       "    <tr style=\"text-align: right;\">\n",
       "      <th></th>\n",
       "      <th>0</th>\n",
       "    </tr>\n",
       "  </thead>\n",
       "  <tbody>\n",
       "    <tr>\n",
       "      <th>aa</th>\n",
       "      <td>1.0</td>\n",
       "    </tr>\n",
       "    <tr>\n",
       "      <th>bb</th>\n",
       "      <td>1.0</td>\n",
       "    </tr>\n",
       "    <tr>\n",
       "      <th>cc</th>\n",
       "      <td>1.0</td>\n",
       "    </tr>\n",
       "  </tbody>\n",
       "</table>\n",
       "</div>"
      ],
      "text/plain": [
       "      0\n",
       "aa  1.0\n",
       "bb  1.0\n",
       "cc  1.0"
      ]
     },
     "execution_count": 403,
     "metadata": {},
     "output_type": "execute_result"
    }
   ],
   "source": [
    "f = np.array(['aa', 'bb', 'cc'])\n",
    "die_8 = MonCarloDevice(f)\n",
    "die_8._gamestats"
   ]
  },
  {
   "cell_type": "code",
   "execution_count": 405,
   "id": "47ac3ec1-ea68-4f81-8554-884afa4d300c",
   "metadata": {
    "tags": []
   },
   "outputs": [
    {
     "name": "stdout",
     "output_type": "stream",
     "text": [
      "check okay: that face exists.\n",
      "check okay: that face exists.\n",
      "check okay: that face exists.\n"
     ]
    },
    {
     "data": {
      "text/html": [
       "<div>\n",
       "<style scoped>\n",
       "    .dataframe tbody tr th:only-of-type {\n",
       "        vertical-align: middle;\n",
       "    }\n",
       "\n",
       "    .dataframe tbody tr th {\n",
       "        vertical-align: top;\n",
       "    }\n",
       "\n",
       "    .dataframe thead th {\n",
       "        text-align: right;\n",
       "    }\n",
       "</style>\n",
       "<table border=\"1\" class=\"dataframe\">\n",
       "  <thead>\n",
       "    <tr style=\"text-align: right;\">\n",
       "      <th></th>\n",
       "      <th>0</th>\n",
       "    </tr>\n",
       "  </thead>\n",
       "  <tbody>\n",
       "    <tr>\n",
       "      <th>aa</th>\n",
       "      <td>1.0</td>\n",
       "    </tr>\n",
       "    <tr>\n",
       "      <th>bb</th>\n",
       "      <td>1.0</td>\n",
       "    </tr>\n",
       "    <tr>\n",
       "      <th>cc</th>\n",
       "      <td>1.0</td>\n",
       "    </tr>\n",
       "  </tbody>\n",
       "</table>\n",
       "</div>"
      ],
      "text/plain": [
       "      0\n",
       "aa  1.0\n",
       "bb  1.0\n",
       "cc  1.0"
      ]
     },
     "execution_count": 405,
     "metadata": {},
     "output_type": "execute_result"
    }
   ],
   "source": [
    "die_8.change_facewt('cc', 5.0)\n",
    "die_8._gamestats"
   ]
  },
  {
   "cell_type": "code",
   "execution_count": null,
   "id": "58a0fd39-b5e2-4db6-8c15-ca4daeb7212e",
   "metadata": {},
   "outputs": [],
   "source": []
  },
  {
   "cell_type": "code",
   "execution_count": null,
   "id": "5e578e1c-e9c8-48d2-9ce1-ae3d82459125",
   "metadata": {},
   "outputs": [],
   "source": []
  },
  {
   "cell_type": "markdown",
   "id": "e50af26a-31a5-4f08-8c33-1dde2f5318e0",
   "metadata": {},
   "source": [
    "Testing Die Class method: __init__:"
   ]
  },
  {
   "cell_type": "code",
   "execution_count": 330,
   "id": "185d6637-0615-414f-b58b-7894f7cdcf2d",
   "metadata": {
    "tags": []
   },
   "outputs": [
    {
     "name": "stdout",
     "output_type": "stream",
     "text": [
      "<class 'numpy.ndarray'>\n",
      "yes, this is an np.ndarray!\n",
      "switched to float\n",
      "switched to float\n",
      "switched to float\n",
      "switched to float\n"
     ]
    }
   ],
   "source": [
    "a = np.array([1,2,3,4])\n",
    "die_1 = MonCarloDevice(a)"
   ]
  },
  {
   "cell_type": "code",
   "execution_count": 331,
   "id": "6c625d62-ed66-4654-bff3-d0d7c001d296",
   "metadata": {},
   "outputs": [
    {
     "name": "stdout",
     "output_type": "stream",
     "text": [
      "<class 'numpy.ndarray'>\n",
      "yes, this is an np.ndarray!\n",
      "check ok: this face is either a string or number.\n",
      "check ok: this face is either a string or number.\n",
      "check ok: this face is either a string or number.\n"
     ]
    }
   ],
   "source": [
    "a = np.array([5, 6, 7, 8, 9, 10])\n",
    "type(a)\n",
    "b = np.array(['a', 'b', 'c'])\n",
    "\n",
    "die_2 = MonCarloDevice(b)"
   ]
  },
  {
   "cell_type": "code",
   "execution_count": 332,
   "id": "81cf05a2-e48c-45d3-b3ef-08ddcb9eadb0",
   "metadata": {
    "tags": []
   },
   "outputs": [
    {
     "data": {
      "text/plain": [
       "numpy.ndarray"
      ]
     },
     "execution_count": 332,
     "metadata": {},
     "output_type": "execute_result"
    }
   ],
   "source": [
    "c = np.array([8, 9, 10])\n",
    "type(c)"
   ]
  },
  {
   "cell_type": "code",
   "execution_count": 333,
   "id": "768f2ffa-5e78-4c36-a19d-107cd788b271",
   "metadata": {
    "tags": []
   },
   "outputs": [
    {
     "name": "stdout",
     "output_type": "stream",
     "text": [
      "<class 'numpy.ndarray'>\n",
      "yes, this is an np.ndarray!\n",
      "switched to float\n",
      "switched to float\n",
      "switched to float\n"
     ]
    },
    {
     "data": {
      "text/plain": [
       "array([ 8,  9, 10])"
      ]
     },
     "execution_count": 333,
     "metadata": {},
     "output_type": "execute_result"
    }
   ],
   "source": [
    "die_3 = MonCarloDevice(c)\n",
    "die_3.faces"
   ]
  },
  {
   "cell_type": "code",
   "execution_count": 334,
   "id": "9404cd04-59b8-4692-b269-81a77e51e783",
   "metadata": {
    "tags": []
   },
   "outputs": [
    {
     "data": {
      "text/html": [
       "<div>\n",
       "<style scoped>\n",
       "    .dataframe tbody tr th:only-of-type {\n",
       "        vertical-align: middle;\n",
       "    }\n",
       "\n",
       "    .dataframe tbody tr th {\n",
       "        vertical-align: top;\n",
       "    }\n",
       "\n",
       "    .dataframe thead th {\n",
       "        text-align: right;\n",
       "    }\n",
       "</style>\n",
       "<table border=\"1\" class=\"dataframe\">\n",
       "  <thead>\n",
       "    <tr style=\"text-align: right;\">\n",
       "      <th></th>\n",
       "      <th>0</th>\n",
       "    </tr>\n",
       "  </thead>\n",
       "  <tbody>\n",
       "    <tr>\n",
       "      <th>8</th>\n",
       "      <td>1.0</td>\n",
       "    </tr>\n",
       "    <tr>\n",
       "      <th>9</th>\n",
       "      <td>1.0</td>\n",
       "    </tr>\n",
       "    <tr>\n",
       "      <th>10</th>\n",
       "      <td>1.0</td>\n",
       "    </tr>\n",
       "  </tbody>\n",
       "</table>\n",
       "</div>"
      ],
      "text/plain": [
       "      0\n",
       "8   1.0\n",
       "9   1.0\n",
       "10  1.0"
      ]
     },
     "execution_count": 334,
     "metadata": {},
     "output_type": "execute_result"
    }
   ],
   "source": [
    "# index is not face values!!\n",
    "die_3._gamestats"
   ]
  },
  {
   "cell_type": "code",
   "execution_count": 384,
   "id": "688b5cfa-885f-4b35-8385-8c904b70c685",
   "metadata": {
    "tags": []
   },
   "outputs": [
    {
     "ename": "ValueError",
     "evalue": "The truth value of an array with more than one element is ambiguous. Use a.any() or a.all()",
     "output_type": "error",
     "traceback": [
      "\u001b[0;31m---------------------------------------------------------------------------\u001b[0m",
      "\u001b[0;31mValueError\u001b[0m                                Traceback (most recent call last)",
      "Cell \u001b[0;32mIn[384], line 1\u001b[0m\n\u001b[0;32m----> 1\u001b[0m \u001b[43mdie_3\u001b[49m\u001b[38;5;241;43m.\u001b[39;49m\u001b[43mchange_facewt\u001b[49m\u001b[43m(\u001b[49m\u001b[38;5;241;43m10\u001b[39;49m\u001b[43m,\u001b[49m\u001b[43m \u001b[49m\u001b[38;5;124;43m'\u001b[39;49m\u001b[38;5;124;43m5\u001b[39;49m\u001b[38;5;124;43m'\u001b[39;49m\u001b[43m)\u001b[49m\n\u001b[1;32m      2\u001b[0m die_3\u001b[38;5;241m.\u001b[39m_gamestats\n",
      "Cell \u001b[0;32mIn[326], line 72\u001b[0m, in \u001b[0;36mMonCarloDevice.change_facewt\u001b[0;34m(self, face, nwt)\u001b[0m\n\u001b[1;32m     69\u001b[0m \u001b[38;5;66;03m# checks to see if face passed is valid - if it's in the die array\u001b[39;00m\n\u001b[1;32m     70\u001b[0m \u001b[38;5;66;03m# if not, IndexError\u001b[39;00m\n\u001b[1;32m     71\u001b[0m \u001b[38;5;28;01mfor\u001b[39;00m i \u001b[38;5;129;01min\u001b[39;00m \u001b[38;5;28mself\u001b[39m\u001b[38;5;241m.\u001b[39mfaces:\n\u001b[0;32m---> 72\u001b[0m     \u001b[38;5;28;01mif\u001b[39;00m \u001b[38;5;129;01mnot\u001b[39;00m np\u001b[38;5;241m.\u001b[39misin(\u001b[38;5;28mself\u001b[39m\u001b[38;5;241m.\u001b[39mfaces, \u001b[38;5;28mself\u001b[39m\u001b[38;5;241m.\u001b[39mface):\n\u001b[1;32m     73\u001b[0m         \u001b[38;5;167;01mIndexError\u001b[39;00m(\u001b[38;5;124mf\u001b[39m\u001b[38;5;124m\"\u001b[39m\u001b[38;5;132;01m{\u001b[39;00mface\u001b[38;5;132;01m}\u001b[39;00m\u001b[38;5;124m is not a face on \u001b[39m\u001b[38;5;132;01m{\u001b[39;00m\u001b[38;5;28mself\u001b[39m\u001b[38;5;132;01m}\u001b[39;00m\u001b[38;5;124m.\u001b[39m\u001b[38;5;124m\"\u001b[39m)\n\u001b[1;32m     74\u001b[0m     \u001b[38;5;28;01melse\u001b[39;00m:\n",
      "\u001b[0;31mValueError\u001b[0m: The truth value of an array with more than one element is ambiguous. Use a.any() or a.all()"
     ]
    }
   ],
   "source": [
    "die_3.change_facewt(10, '5')\n",
    "die_3._gamestats"
   ]
  },
  {
   "cell_type": "code",
   "execution_count": 385,
   "id": "50eda08b-6a70-41d2-803b-d028bbcc580c",
   "metadata": {
    "tags": []
   },
   "outputs": [
    {
     "name": "stdout",
     "output_type": "stream",
     "text": [
      "<class 'numpy.ndarray'>\n",
      "yes, this is an np.ndarray!\n",
      "check ok: this face is either a string or number.\n",
      "check ok: this face is either a string or number.\n",
      "check ok: this face is either a string or number.\n"
     ]
    },
    {
     "data": {
      "text/plain": [
       "array(['x', 'y', 'z'], dtype='<U1')"
      ]
     },
     "execution_count": 385,
     "metadata": {},
     "output_type": "execute_result"
    }
   ],
   "source": [
    "d = np.array(['x', 'y', 'z'])\n",
    "die_4 = MonCarloDevice(d)\n",
    "die_4.faces"
   ]
  },
  {
   "cell_type": "code",
   "execution_count": 338,
   "id": "14d54282-7e06-4247-8b8a-0fb034c97bf0",
   "metadata": {
    "tags": []
   },
   "outputs": [
    {
     "data": {
      "text/html": [
       "<div>\n",
       "<style scoped>\n",
       "    .dataframe tbody tr th:only-of-type {\n",
       "        vertical-align: middle;\n",
       "    }\n",
       "\n",
       "    .dataframe tbody tr th {\n",
       "        vertical-align: top;\n",
       "    }\n",
       "\n",
       "    .dataframe thead th {\n",
       "        text-align: right;\n",
       "    }\n",
       "</style>\n",
       "<table border=\"1\" class=\"dataframe\">\n",
       "  <thead>\n",
       "    <tr style=\"text-align: right;\">\n",
       "      <th></th>\n",
       "      <th>0</th>\n",
       "    </tr>\n",
       "  </thead>\n",
       "  <tbody>\n",
       "    <tr>\n",
       "      <th>x</th>\n",
       "      <td>1.0</td>\n",
       "    </tr>\n",
       "    <tr>\n",
       "      <th>y</th>\n",
       "      <td>1.0</td>\n",
       "    </tr>\n",
       "    <tr>\n",
       "      <th>z</th>\n",
       "      <td>1.0</td>\n",
       "    </tr>\n",
       "  </tbody>\n",
       "</table>\n",
       "</div>"
      ],
      "text/plain": [
       "     0\n",
       "x  1.0\n",
       "y  1.0\n",
       "z  1.0"
      ]
     },
     "execution_count": 338,
     "metadata": {},
     "output_type": "execute_result"
    }
   ],
   "source": [
    "die_4._gamestats"
   ]
  },
  {
   "cell_type": "code",
   "execution_count": null,
   "id": "42634e77-cb3a-48a7-9d49-edab54f0fa2f",
   "metadata": {},
   "outputs": [],
   "source": []
  },
  {
   "cell_type": "code",
   "execution_count": null,
   "id": "c23baaad-6dac-4182-92e5-c5ee2219f22b",
   "metadata": {},
   "outputs": [],
   "source": []
  },
  {
   "cell_type": "code",
   "execution_count": null,
   "id": "1ae8810e-df80-495c-b9ed-8b8ce791a3a9",
   "metadata": {},
   "outputs": [],
   "source": [
    "    # method: roll the device one or more times\n",
    "    #def\n",
    "    \n",
    "    \n",
    "    \n",
    "    \n",
    "    \n",
    "    \n",
    "    # method: show the device's current state"
   ]
  },
  {
   "cell_type": "code",
   "execution_count": null,
   "id": "dc04dc80-9c19-4ca9-9e10-38a930fc18e8",
   "metadata": {},
   "outputs": [],
   "source": []
  },
  {
   "cell_type": "code",
   "execution_count": null,
   "id": "4091caed-24d0-462e-a2ff-c72b47098c26",
   "metadata": {},
   "outputs": [],
   "source": []
  },
  {
   "cell_type": "code",
   "execution_count": null,
   "id": "176824cc-47c1-4b6e-80cf-2ef0d04141c0",
   "metadata": {},
   "outputs": [],
   "source": []
  },
  {
   "cell_type": "code",
   "execution_count": null,
   "id": "58b027a4-11ed-4513-b87b-583d1e8c6d46",
   "metadata": {},
   "outputs": [],
   "source": []
  },
  {
   "cell_type": "code",
   "execution_count": null,
   "id": "9ff085b7-4b98-4322-8e02-aa83e3a98635",
   "metadata": {},
   "outputs": [],
   "source": []
  },
  {
   "cell_type": "code",
   "execution_count": 11,
   "id": "1826ea32-40eb-4777-88fb-c219195d92fa",
   "metadata": {
    "tags": []
   },
   "outputs": [
    {
     "ename": "SyntaxError",
     "evalue": "incomplete input (3013713131.py, line 12)",
     "output_type": "error",
     "traceback": [
      "\u001b[0;36m  Cell \u001b[0;32mIn[11], line 12\u001b[0;36m\u001b[0m\n\u001b[0;31m    # method: show user most recent play results\u001b[0m\n\u001b[0m                                                ^\u001b[0m\n\u001b[0;31mSyntaxError\u001b[0m\u001b[0;31m:\u001b[0m incomplete input\n"
     ]
    }
   ],
   "source": [
    "# The Game Class \n",
    "class Game():\n",
    "    \n",
    "    # method: the initializer\n",
    "    # takes parameter: list of already instantiated similar devices\n",
    "    \n",
    "    \n",
    "    \n",
    "    # method: play\n",
    "    \n",
    "    \n",
    "    # method: show user most recent play results"
   ]
  },
  {
   "cell_type": "code",
   "execution_count": 7,
   "id": "4a1131e7-2f71-4816-b2c8-d4d88f20d318",
   "metadata": {
    "tags": []
   },
   "outputs": [
    {
     "ename": "SyntaxError",
     "evalue": "incomplete input (242268121.py, line 19)",
     "output_type": "error",
     "traceback": [
      "\u001b[0;36m  Cell \u001b[0;32mIn[7], line 19\u001b[0;36m\u001b[0m\n\u001b[0;31m    # method: permutation count\u001b[0m\n\u001b[0m                               ^\u001b[0m\n\u001b[0;31mSyntaxError\u001b[0m\u001b[0;31m:\u001b[0m incomplete input\n"
     ]
    }
   ],
   "source": [
    "# The Analyzer class\n",
    "class Analyzer():\n",
    "    \n",
    "    \n",
    "    \n",
    "    # method: initializer\n",
    "    # takes a game object --> ValueError if not a game object\n",
    "    \n",
    "    \n",
    "    \n",
    "    # method: jackpot\n",
    "    \n",
    "    \n",
    "    \n",
    "    # method: combo count method\n",
    "    \n",
    "    \n",
    "    \n",
    "    # method: permutation count"
   ]
  },
  {
   "cell_type": "code",
   "execution_count": null,
   "id": "8f860695-4c8a-43ed-8c01-b3fe8f14f13a",
   "metadata": {},
   "outputs": [],
   "source": []
  },
  {
   "cell_type": "code",
   "execution_count": null,
   "id": "c191fbc3-4430-4d24-a277-43f4b67d40f7",
   "metadata": {},
   "outputs": [],
   "source": []
  }
 ],
 "metadata": {
  "kernelspec": {
   "display_name": "Python 3",
   "language": "python",
   "name": "python3"
  },
  "language_info": {
   "codemirror_mode": {
    "name": "ipython",
    "version": 3
   },
   "file_extension": ".py",
   "mimetype": "text/x-python",
   "name": "python",
   "nbconvert_exporter": "python",
   "pygments_lexer": "ipython3",
   "version": "3.11.4"
  }
 },
 "nbformat": 4,
 "nbformat_minor": 5
}
