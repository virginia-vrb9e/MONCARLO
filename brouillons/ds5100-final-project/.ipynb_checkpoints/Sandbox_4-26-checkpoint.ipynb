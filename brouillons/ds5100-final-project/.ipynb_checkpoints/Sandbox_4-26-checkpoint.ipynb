{
 "cells": [
  {
   "cell_type": "code",
   "execution_count": 60,
   "id": "06241b08-8e0c-47df-a1ee-a3892564a4b3",
   "metadata": {
    "tags": []
   },
   "outputs": [],
   "source": [
    "import pandas as pd\n",
    "import numpy as np\n",
    "import matplotlib.image as mpimg\n",
    "import matplotlib.pyplot as plt\n",
    "\n",
    "# The Die class\n",
    "class MonCarloDevice():\n",
    "    \n",
    "#    img = mpimg.imread('d20_met_nyc.jpg')\n",
    "#    plt.imshow(img)\n",
    "#    print(\"THE MET Museum: \\nicosahedron with faces inscribed with Greek letters \\nPtolemaic Period–Roman Period\\n(2nd century B.C.– 4th century A.D.)\")\n",
    "#    print(\"Read about this ancient Monte Carlo device: https://www.metmuseum.org/art/collection/search/551072\")\n",
    "    \n",
    "    # method: the initializer\n",
    "    \n",
    "    def __init__(self, faces):\n",
    "        self.faces = faces\n",
    "        print(type(faces))\n",
    "            \n",
    "            \n",
    "        # check that faces is np.array\n",
    "        if not isinstance(faces, np.ndarray):  \n",
    "            raise TypeError(\"Input of faces must be an NumPy array.\") \n",
    "        else:\n",
    "            print(\"yes, this is an np.ndarray!\")\n",
    "            \n",
    "            \n",
    "        # check that faces are strings or numbers\n",
    "                # https://github.com/numpy/numpy/issues/17325\n",
    "                # https://stackoverflow.com/questions/30086936/what-is-the-difference-between-the-types-type-numpy-string-and-type-str\n",
    "        x = len(self.faces)\n",
    "        for i in range(x):\n",
    "            if not isinstance(self.faces[i], (str)):\n",
    "                float(i)\n",
    "                print(\"switched to float\")\n",
    "            else:\n",
    "                print(\"check ok: this face is either a string or number.\") \n",
    "    \n",
    "    \n",
    "        # check that faces are unique values \n",
    "        uniq = np.unique(faces)  # np.unique returns array of unique values\n",
    "        if len(uniq) != len(faces):\n",
    "            raise ValueError(\"The NumPy array of faces for your device must be of unique values.\")\n",
    "\n",
    "\n",
    "        # initiate the weights as 1.0   \n",
    "        self.weights = []\n",
    "        self.num_faces = len(faces)\n",
    "        x = len(self.faces)\n",
    "        for i in range(x):\n",
    "            self.weights.append(1.0)\n",
    "#        self.weights.extend(1.0 * x) for... # replace for loop with comprehension?\n",
    "    \n",
    "        # return faces and weights in a private df w/ faces as index\n",
    "        col_names = ['weight']\n",
    "        self._gamestats = pd.DataFrame(\n",
    "            self.weights,\n",
    "            index = self.faces, \n",
    "            columns = col_names\n",
    "        ).rename_axis(index='faces')\n",
    "            \n",
    "            \n",
    "    # method: change the weight of a single side\n",
    "    def change_facewt(self, face, nwt):\n",
    "        self.nwt = nwt\n",
    "        self.face = face\n",
    "        x = len(self.faces)\n",
    "\n",
    "        # checks to see if face passed is valid - if it's in the die array | IndexError\n",
    "        is_in = np.isin(self.faces, self.face)\n",
    "        for _ in is_in:\n",
    "            if self.face not in self.faces: \n",
    "                raise IndexError(f\"{face} is not a face on this device.\")\n",
    "            else:\n",
    "                print(\"check okay: that face exists.\")  \n",
    "                \n",
    "        # check if nwt is int or float - OR castable | TypeError\n",
    "        if not isinstance(nwt, (int, float)):\n",
    "            try:\n",
    "                nwt = float(nwt)  \n",
    "            except:\n",
    "                raise TypeError(\"New weight must be numeric.\")\n",
    "       \n",
    "        # change the self.face weight with self.nwt\n",
    "        # https://pandas.pydata.org/docs/reference/api/pandas.DataFrame.to_dict.html\n",
    "        stat_dict = self._gamestats.to_dict('index')\n",
    "        stat_dict[self.face] = self.nwt\n",
    "        self._gamestats = pd.DataFrame.from_dict(stat_dict, orient = 'index')\n",
    "        print(self._gamestats()) # TAKE OUT TAKE OUT TAKE OUT TAKE OUT\n",
    " \n",
    "\n",
    "\n",
    "    def roll_ntimes(self, ntimes = 1):\n",
    "        rolls = []\n",
    "        for i in range(ntimes):\n",
    "            sample = self._gamestats.sample(replace = True)\n",
    "            face = sample.index[0] # selecting the index value from the multiindex structure returned in the list\n",
    "            rolls.append(face)  \n",
    "        return rolls\n",
    "\n",
    "\n",
    "    # method: show die's current state\n",
    "    def check(self):                      # !!!!\n",
    "        return self._gamestats()"
   ]
  },
  {
   "cell_type": "code",
   "execution_count": 61,
   "id": "1fe24e04-6c18-4302-8bd3-014e8c0baebd",
   "metadata": {
    "tags": []
   },
   "outputs": [
    {
     "name": "stdout",
     "output_type": "stream",
     "text": [
      "<class 'numpy.ndarray'>\n",
      "yes, this is an np.ndarray!\n",
      "check ok: this face is either a string or number.\n",
      "check ok: this face is either a string or number.\n",
      "check ok: this face is either a string or number.\n",
      "check ok: this face is either a string or number.\n"
     ]
    }
   ],
   "source": [
    "a = np.array(['x', 'y', 'z', 'delta'])\n",
    "\n",
    "die133 = MonCarloDevice(a)"
   ]
  },
  {
   "cell_type": "code",
   "execution_count": 65,
   "id": "e197e4f1-fc9b-4840-ba8e-234bf1e6cb11",
   "metadata": {
    "tags": []
   },
   "outputs": [
    {
     "data": {
      "text/plain": [
       "['z', 'delta', 'y', 'delta', 'y', 'delta', 'z', 'delta']"
      ]
     },
     "execution_count": 65,
     "metadata": {},
     "output_type": "execute_result"
    }
   ],
   "source": [
    "die133.roll_ntimes(8)"
   ]
  },
  {
   "cell_type": "code",
   "execution_count": 63,
   "id": "b16f4f19-096c-4124-a15b-c2de8bfc5603",
   "metadata": {
    "tags": []
   },
   "outputs": [
    {
     "data": {
      "text/plain": [
       "['x', 'delta', 'y']"
      ]
     },
     "execution_count": 63,
     "metadata": {},
     "output_type": "execute_result"
    }
   ],
   "source": [
    "d133 = die133.roll_ntimes(3)\n",
    "d133"
   ]
  },
  {
   "cell_type": "code",
   "execution_count": 44,
   "id": "97fdf85a-c67b-4ce3-ac14-27a74e525e65",
   "metadata": {
    "tags": []
   },
   "outputs": [
    {
     "data": {
      "text/plain": [
       "list"
      ]
     },
     "execution_count": 44,
     "metadata": {},
     "output_type": "execute_result"
    }
   ],
   "source": [
    "type(d133) "
   ]
  },
  {
   "cell_type": "code",
   "execution_count": null,
   "id": "5f48c0a6-7cde-4276-8ac7-186fad27da1f",
   "metadata": {},
   "outputs": [],
   "source": []
  },
  {
   "cell_type": "code",
   "execution_count": 11,
   "id": "d6188373-02a6-4acb-b2a1-491cf457b5f9",
   "metadata": {
    "tags": []
   },
   "outputs": [
    {
     "data": {
      "text/html": [
       "<div>\n",
       "<style scoped>\n",
       "    .dataframe tbody tr th:only-of-type {\n",
       "        vertical-align: middle;\n",
       "    }\n",
       "\n",
       "    .dataframe tbody tr th {\n",
       "        vertical-align: top;\n",
       "    }\n",
       "\n",
       "    .dataframe thead th {\n",
       "        text-align: right;\n",
       "    }\n",
       "</style>\n",
       "<table border=\"1\" class=\"dataframe\">\n",
       "  <thead>\n",
       "    <tr style=\"text-align: right;\">\n",
       "      <th></th>\n",
       "      <th>weight</th>\n",
       "    </tr>\n",
       "    <tr>\n",
       "      <th>faces</th>\n",
       "      <th></th>\n",
       "    </tr>\n",
       "  </thead>\n",
       "  <tbody>\n",
       "    <tr>\n",
       "      <th>x</th>\n",
       "      <td>1.0</td>\n",
       "    </tr>\n",
       "    <tr>\n",
       "      <th>y</th>\n",
       "      <td>1.0</td>\n",
       "    </tr>\n",
       "    <tr>\n",
       "      <th>z</th>\n",
       "      <td>1.0</td>\n",
       "    </tr>\n",
       "    <tr>\n",
       "      <th>delta</th>\n",
       "      <td>1.0</td>\n",
       "    </tr>\n",
       "  </tbody>\n",
       "</table>\n",
       "</div>"
      ],
      "text/plain": [
       "       weight\n",
       "faces        \n",
       "x         1.0\n",
       "y         1.0\n",
       "z         1.0\n",
       "delta     1.0"
      ]
     },
     "execution_count": 11,
     "metadata": {},
     "output_type": "execute_result"
    }
   ],
   "source": [
    "die133._gamestats"
   ]
  },
  {
   "cell_type": "code",
   "execution_count": 12,
   "id": "49fce22b-6f9f-460c-b7ea-226183ef84d0",
   "metadata": {
    "tags": []
   },
   "outputs": [
    {
     "ename": "AttributeError",
     "evalue": "'MonCarloDevice' object has no attribute 'roll'",
     "output_type": "error",
     "traceback": [
      "\u001b[0;31m---------------------------------------------------------------------------\u001b[0m",
      "\u001b[0;31mAttributeError\u001b[0m                            Traceback (most recent call last)",
      "Cell \u001b[0;32mIn[12], line 1\u001b[0m\n\u001b[0;32m----> 1\u001b[0m \u001b[43mdie133\u001b[49m\u001b[38;5;241;43m.\u001b[39;49m\u001b[43mroll\u001b[49m\n",
      "\u001b[0;31mAttributeError\u001b[0m: 'MonCarloDevice' object has no attribute 'roll'"
     ]
    }
   ],
   "source": [
    "die133.roll"
   ]
  },
  {
   "cell_type": "code",
   "execution_count": 13,
   "id": "62454924-907a-4a06-9b4b-942ec0c7450a",
   "metadata": {
    "tags": []
   },
   "outputs": [
    {
     "name": "stdout",
     "output_type": "stream",
     "text": [
      "check okay: that face exists.\n",
      "check okay: that face exists.\n",
      "check okay: that face exists.\n",
      "check okay: that face exists.\n"
     ]
    },
    {
     "ename": "AttributeError",
     "evalue": "'float' object has no attribute 'items'",
     "output_type": "error",
     "traceback": [
      "\u001b[0;31m---------------------------------------------------------------------------\u001b[0m",
      "\u001b[0;31mAttributeError\u001b[0m                            Traceback (most recent call last)",
      "Cell \u001b[0;32mIn[13], line 1\u001b[0m\n\u001b[0;32m----> 1\u001b[0m \u001b[43mdie133\u001b[49m\u001b[38;5;241;43m.\u001b[39;49m\u001b[43mchange_facewt\u001b[49m\u001b[43m(\u001b[49m\u001b[38;5;124;43m'\u001b[39;49m\u001b[38;5;124;43mdelta\u001b[39;49m\u001b[38;5;124;43m'\u001b[39;49m\u001b[43m,\u001b[49m\u001b[43m \u001b[49m\u001b[38;5;241;43m5.0\u001b[39;49m\u001b[43m)\u001b[49m\n",
      "Cell \u001b[0;32mIn[2], line 88\u001b[0m, in \u001b[0;36mMonCarloDevice.change_facewt\u001b[0;34m(self, face, nwt)\u001b[0m\n\u001b[1;32m     86\u001b[0m stat_dict \u001b[38;5;241m=\u001b[39m \u001b[38;5;28mself\u001b[39m\u001b[38;5;241m.\u001b[39m_gamestats\u001b[38;5;241m.\u001b[39mto_dict(\u001b[38;5;124m'\u001b[39m\u001b[38;5;124mindex\u001b[39m\u001b[38;5;124m'\u001b[39m)\n\u001b[1;32m     87\u001b[0m stat_dict[\u001b[38;5;28mself\u001b[39m\u001b[38;5;241m.\u001b[39mface] \u001b[38;5;241m=\u001b[39m \u001b[38;5;28mself\u001b[39m\u001b[38;5;241m.\u001b[39mnwt\n\u001b[0;32m---> 88\u001b[0m \u001b[38;5;28mself\u001b[39m\u001b[38;5;241m.\u001b[39m_gamestats \u001b[38;5;241m=\u001b[39m \u001b[43mpd\u001b[49m\u001b[38;5;241;43m.\u001b[39;49m\u001b[43mDataFrame\u001b[49m\u001b[38;5;241;43m.\u001b[39;49m\u001b[43mfrom_dict\u001b[49m\u001b[43m(\u001b[49m\u001b[43mstat_dict\u001b[49m\u001b[43m,\u001b[49m\u001b[43m \u001b[49m\u001b[43morient\u001b[49m\u001b[43m \u001b[49m\u001b[38;5;241;43m=\u001b[39;49m\u001b[43m \u001b[49m\u001b[38;5;124;43m'\u001b[39;49m\u001b[38;5;124;43mindex\u001b[39;49m\u001b[38;5;124;43m'\u001b[39;49m\u001b[43m)\u001b[49m\n\u001b[1;32m     89\u001b[0m \u001b[38;5;28mprint\u001b[39m(\u001b[38;5;28mself\u001b[39m\u001b[38;5;241m.\u001b[39m_gamestats())\n",
      "File \u001b[0;32m/apps/software/standard/core/jupyterlab/3.6.3-py3.11/lib/python3.11/site-packages/pandas/core/frame.py:1744\u001b[0m, in \u001b[0;36mDataFrame.from_dict\u001b[0;34m(cls, data, orient, dtype, columns)\u001b[0m\n\u001b[1;32m   1741\u001b[0m \u001b[38;5;28;01mif\u001b[39;00m \u001b[38;5;28mlen\u001b[39m(data) \u001b[38;5;241m>\u001b[39m \u001b[38;5;241m0\u001b[39m:\n\u001b[1;32m   1742\u001b[0m     \u001b[38;5;66;03m# TODO speed up Series case\u001b[39;00m\n\u001b[1;32m   1743\u001b[0m     \u001b[38;5;28;01mif\u001b[39;00m \u001b[38;5;28misinstance\u001b[39m(\u001b[38;5;28mlist\u001b[39m(data\u001b[38;5;241m.\u001b[39mvalues())[\u001b[38;5;241m0\u001b[39m], (Series, \u001b[38;5;28mdict\u001b[39m)):\n\u001b[0;32m-> 1744\u001b[0m         data \u001b[38;5;241m=\u001b[39m \u001b[43m_from_nested_dict\u001b[49m\u001b[43m(\u001b[49m\u001b[43mdata\u001b[49m\u001b[43m)\u001b[49m\n\u001b[1;32m   1745\u001b[0m     \u001b[38;5;28;01melse\u001b[39;00m:\n\u001b[1;32m   1746\u001b[0m         index \u001b[38;5;241m=\u001b[39m \u001b[38;5;28mlist\u001b[39m(data\u001b[38;5;241m.\u001b[39mkeys())\n",
      "File \u001b[0;32m/apps/software/standard/core/jupyterlab/3.6.3-py3.11/lib/python3.11/site-packages/pandas/core/frame.py:11597\u001b[0m, in \u001b[0;36m_from_nested_dict\u001b[0;34m(data)\u001b[0m\n\u001b[1;32m  11595\u001b[0m new_data: collections\u001b[38;5;241m.\u001b[39mdefaultdict \u001b[38;5;241m=\u001b[39m collections\u001b[38;5;241m.\u001b[39mdefaultdict(\u001b[38;5;28mdict\u001b[39m)\n\u001b[1;32m  11596\u001b[0m \u001b[38;5;28;01mfor\u001b[39;00m index, s \u001b[38;5;129;01min\u001b[39;00m data\u001b[38;5;241m.\u001b[39mitems():\n\u001b[0;32m> 11597\u001b[0m     \u001b[38;5;28;01mfor\u001b[39;00m col, v \u001b[38;5;129;01min\u001b[39;00m \u001b[43ms\u001b[49m\u001b[38;5;241;43m.\u001b[39;49m\u001b[43mitems\u001b[49m():\n\u001b[1;32m  11598\u001b[0m         new_data[col][index] \u001b[38;5;241m=\u001b[39m v\n\u001b[1;32m  11599\u001b[0m \u001b[38;5;28;01mreturn\u001b[39;00m new_data\n",
      "\u001b[0;31mAttributeError\u001b[0m: 'float' object has no attribute 'items'"
     ]
    }
   ],
   "source": [
    "die133.change_facewt('delta', 5.0)\n"
   ]
  },
  {
   "cell_type": "code",
   "execution_count": null,
   "id": "ea7d3ad3-cb9c-4e45-b5c1-fdf7aaf25e45",
   "metadata": {},
   "outputs": [],
   "source": []
  },
  {
   "cell_type": "code",
   "execution_count": null,
   "id": "58e4438f-67e8-42ff-bf6c-0a094adcc313",
   "metadata": {},
   "outputs": [],
   "source": []
  },
  {
   "cell_type": "code",
   "execution_count": null,
   "id": "0fff97c1-12fa-402f-b6fa-c2eb53c637f2",
   "metadata": {},
   "outputs": [],
   "source": []
  },
  {
   "cell_type": "code",
   "execution_count": 14,
   "id": "8220709d-4ad1-4a2a-a2ba-00521f64814f",
   "metadata": {
    "tags": []
   },
   "outputs": [
    {
     "data": {
      "text/plain": [
       "{'x': {'weight': 1.0},\n",
       " 'y': {'weight': 1.0},\n",
       " 'z': {'weight': 1.0},\n",
       " 'delta': {'weight': 1.0}}"
      ]
     },
     "execution_count": 14,
     "metadata": {},
     "output_type": "execute_result"
    }
   ],
   "source": [
    "die_133_dict = die133._gamestats.to_dict('index')\n",
    "die_133_dict"
   ]
  },
  {
   "cell_type": "code",
   "execution_count": 15,
   "id": "8cb67a4d-dcfb-4fe3-84d7-9373927ee2a8",
   "metadata": {
    "tags": []
   },
   "outputs": [
    {
     "data": {
      "text/plain": [
       "{'x': {'weight': 1.0},\n",
       " 'y': {'weight': 1.0},\n",
       " 'z': {'weight': 1.0},\n",
       " 'delta': 5.0}"
      ]
     },
     "execution_count": 15,
     "metadata": {},
     "output_type": "execute_result"
    }
   ],
   "source": [
    "die_133_dict['delta'] = 5.0\n",
    "die_133_dict"
   ]
  },
  {
   "cell_type": "code",
   "execution_count": 16,
   "id": "61c10985-5212-49f9-b5af-13bb92e23426",
   "metadata": {
    "tags": []
   },
   "outputs": [
    {
     "name": "stdout",
     "output_type": "stream",
     "text": [
      "check okay: that face exists.\n",
      "check okay: that face exists.\n",
      "check okay: that face exists.\n",
      "check okay: that face exists.\n"
     ]
    },
    {
     "ename": "AttributeError",
     "evalue": "'int' object has no attribute 'items'",
     "output_type": "error",
     "traceback": [
      "\u001b[0;31m---------------------------------------------------------------------------\u001b[0m",
      "\u001b[0;31mAttributeError\u001b[0m                            Traceback (most recent call last)",
      "Cell \u001b[0;32mIn[16], line 1\u001b[0m\n\u001b[0;32m----> 1\u001b[0m \u001b[43mdie133\u001b[49m\u001b[38;5;241;43m.\u001b[39;49m\u001b[43mchange_facewt\u001b[49m\u001b[43m(\u001b[49m\u001b[38;5;124;43m'\u001b[39;49m\u001b[38;5;124;43my\u001b[39;49m\u001b[38;5;124;43m'\u001b[39;49m\u001b[43m,\u001b[49m\u001b[43m \u001b[49m\u001b[38;5;241;43m10\u001b[39;49m\u001b[43m)\u001b[49m\n",
      "Cell \u001b[0;32mIn[2], line 88\u001b[0m, in \u001b[0;36mMonCarloDevice.change_facewt\u001b[0;34m(self, face, nwt)\u001b[0m\n\u001b[1;32m     86\u001b[0m stat_dict \u001b[38;5;241m=\u001b[39m \u001b[38;5;28mself\u001b[39m\u001b[38;5;241m.\u001b[39m_gamestats\u001b[38;5;241m.\u001b[39mto_dict(\u001b[38;5;124m'\u001b[39m\u001b[38;5;124mindex\u001b[39m\u001b[38;5;124m'\u001b[39m)\n\u001b[1;32m     87\u001b[0m stat_dict[\u001b[38;5;28mself\u001b[39m\u001b[38;5;241m.\u001b[39mface] \u001b[38;5;241m=\u001b[39m \u001b[38;5;28mself\u001b[39m\u001b[38;5;241m.\u001b[39mnwt\n\u001b[0;32m---> 88\u001b[0m \u001b[38;5;28mself\u001b[39m\u001b[38;5;241m.\u001b[39m_gamestats \u001b[38;5;241m=\u001b[39m \u001b[43mpd\u001b[49m\u001b[38;5;241;43m.\u001b[39;49m\u001b[43mDataFrame\u001b[49m\u001b[38;5;241;43m.\u001b[39;49m\u001b[43mfrom_dict\u001b[49m\u001b[43m(\u001b[49m\u001b[43mstat_dict\u001b[49m\u001b[43m,\u001b[49m\u001b[43m \u001b[49m\u001b[43morient\u001b[49m\u001b[43m \u001b[49m\u001b[38;5;241;43m=\u001b[39;49m\u001b[43m \u001b[49m\u001b[38;5;124;43m'\u001b[39;49m\u001b[38;5;124;43mindex\u001b[39;49m\u001b[38;5;124;43m'\u001b[39;49m\u001b[43m)\u001b[49m\n\u001b[1;32m     89\u001b[0m \u001b[38;5;28mprint\u001b[39m(\u001b[38;5;28mself\u001b[39m\u001b[38;5;241m.\u001b[39m_gamestats())\n",
      "File \u001b[0;32m/apps/software/standard/core/jupyterlab/3.6.3-py3.11/lib/python3.11/site-packages/pandas/core/frame.py:1744\u001b[0m, in \u001b[0;36mDataFrame.from_dict\u001b[0;34m(cls, data, orient, dtype, columns)\u001b[0m\n\u001b[1;32m   1741\u001b[0m \u001b[38;5;28;01mif\u001b[39;00m \u001b[38;5;28mlen\u001b[39m(data) \u001b[38;5;241m>\u001b[39m \u001b[38;5;241m0\u001b[39m:\n\u001b[1;32m   1742\u001b[0m     \u001b[38;5;66;03m# TODO speed up Series case\u001b[39;00m\n\u001b[1;32m   1743\u001b[0m     \u001b[38;5;28;01mif\u001b[39;00m \u001b[38;5;28misinstance\u001b[39m(\u001b[38;5;28mlist\u001b[39m(data\u001b[38;5;241m.\u001b[39mvalues())[\u001b[38;5;241m0\u001b[39m], (Series, \u001b[38;5;28mdict\u001b[39m)):\n\u001b[0;32m-> 1744\u001b[0m         data \u001b[38;5;241m=\u001b[39m \u001b[43m_from_nested_dict\u001b[49m\u001b[43m(\u001b[49m\u001b[43mdata\u001b[49m\u001b[43m)\u001b[49m\n\u001b[1;32m   1745\u001b[0m     \u001b[38;5;28;01melse\u001b[39;00m:\n\u001b[1;32m   1746\u001b[0m         index \u001b[38;5;241m=\u001b[39m \u001b[38;5;28mlist\u001b[39m(data\u001b[38;5;241m.\u001b[39mkeys())\n",
      "File \u001b[0;32m/apps/software/standard/core/jupyterlab/3.6.3-py3.11/lib/python3.11/site-packages/pandas/core/frame.py:11597\u001b[0m, in \u001b[0;36m_from_nested_dict\u001b[0;34m(data)\u001b[0m\n\u001b[1;32m  11595\u001b[0m new_data: collections\u001b[38;5;241m.\u001b[39mdefaultdict \u001b[38;5;241m=\u001b[39m collections\u001b[38;5;241m.\u001b[39mdefaultdict(\u001b[38;5;28mdict\u001b[39m)\n\u001b[1;32m  11596\u001b[0m \u001b[38;5;28;01mfor\u001b[39;00m index, s \u001b[38;5;129;01min\u001b[39;00m data\u001b[38;5;241m.\u001b[39mitems():\n\u001b[0;32m> 11597\u001b[0m     \u001b[38;5;28;01mfor\u001b[39;00m col, v \u001b[38;5;129;01min\u001b[39;00m \u001b[43ms\u001b[49m\u001b[38;5;241;43m.\u001b[39;49m\u001b[43mitems\u001b[49m():\n\u001b[1;32m  11598\u001b[0m         new_data[col][index] \u001b[38;5;241m=\u001b[39m v\n\u001b[1;32m  11599\u001b[0m \u001b[38;5;28;01mreturn\u001b[39;00m new_data\n",
      "\u001b[0;31mAttributeError\u001b[0m: 'int' object has no attribute 'items'"
     ]
    }
   ],
   "source": [
    "die133.change_facewt('y', 10)"
   ]
  },
  {
   "cell_type": "code",
   "execution_count": 17,
   "id": "7b637874-f86e-48cc-88de-070fcf55ff72",
   "metadata": {
    "tags": []
   },
   "outputs": [
    {
     "data": {
      "text/html": [
       "<div>\n",
       "<style scoped>\n",
       "    .dataframe tbody tr th:only-of-type {\n",
       "        vertical-align: middle;\n",
       "    }\n",
       "\n",
       "    .dataframe tbody tr th {\n",
       "        vertical-align: top;\n",
       "    }\n",
       "\n",
       "    .dataframe thead th {\n",
       "        text-align: right;\n",
       "    }\n",
       "</style>\n",
       "<table border=\"1\" class=\"dataframe\">\n",
       "  <thead>\n",
       "    <tr style=\"text-align: right;\">\n",
       "      <th></th>\n",
       "      <th>weight</th>\n",
       "    </tr>\n",
       "    <tr>\n",
       "      <th>faces</th>\n",
       "      <th></th>\n",
       "    </tr>\n",
       "  </thead>\n",
       "  <tbody>\n",
       "    <tr>\n",
       "      <th>x</th>\n",
       "      <td>1.0</td>\n",
       "    </tr>\n",
       "    <tr>\n",
       "      <th>y</th>\n",
       "      <td>1.0</td>\n",
       "    </tr>\n",
       "    <tr>\n",
       "      <th>z</th>\n",
       "      <td>1.0</td>\n",
       "    </tr>\n",
       "    <tr>\n",
       "      <th>delta</th>\n",
       "      <td>1.0</td>\n",
       "    </tr>\n",
       "  </tbody>\n",
       "</table>\n",
       "</div>"
      ],
      "text/plain": [
       "       weight\n",
       "faces        \n",
       "x         1.0\n",
       "y         1.0\n",
       "z         1.0\n",
       "delta     1.0"
      ]
     },
     "execution_count": 17,
     "metadata": {},
     "output_type": "execute_result"
    }
   ],
   "source": [
    "die133._gamestats"
   ]
  },
  {
   "cell_type": "code",
   "execution_count": 18,
   "id": "b5658149-fcf0-4d61-88c3-9c61d5099457",
   "metadata": {},
   "outputs": [
    {
     "data": {
      "text/plain": [
       "<bound method MonCarloDevice.check of <__main__.MonCarloDevice object at 0x7fa50e290690>>"
      ]
     },
     "execution_count": 18,
     "metadata": {},
     "output_type": "execute_result"
    }
   ],
   "source": [
    "die133.check"
   ]
  },
  {
   "cell_type": "code",
   "execution_count": null,
   "id": "bd452151-6645-48d2-a125-a3c2a893644d",
   "metadata": {},
   "outputs": [],
   "source": []
  },
  {
   "cell_type": "code",
   "execution_count": null,
   "id": "7504f20e-0270-4865-90d4-977575213f8d",
   "metadata": {},
   "outputs": [],
   "source": []
  }
 ],
 "metadata": {
  "kernelspec": {
   "display_name": "Python 3",
   "language": "python",
   "name": "python3"
  },
  "language_info": {
   "codemirror_mode": {
    "name": "ipython",
    "version": 3
   },
   "file_extension": ".py",
   "mimetype": "text/x-python",
   "name": "python",
   "nbconvert_exporter": "python",
   "pygments_lexer": "ipython3",
   "version": "3.11.4"
  }
 },
 "nbformat": 4,
 "nbformat_minor": 5
}
