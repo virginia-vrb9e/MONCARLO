{
 "cells": [
  {
   "cell_type": "markdown",
   "id": "7fc42316-7137-4c6a-b537-850c0d7c3719",
   "metadata": {},
   "source": [
    "change the weight of one side using dict structure"
   ]
  },
  {
   "cell_type": "code",
   "execution_count": null,
   "id": "a544b405-7686-4339-998a-3075ebdb3cd1",
   "metadata": {},
   "outputs": [],
   "source": [
    "        # return faces and weights in a private df w/ faces as index\n",
    "        col_names = ['weight']\n",
    "        self._gamestats = pd.DataFrame(\n",
    "            self.weights,\n",
    "            index = self.faces, columns = col_names)"
   ]
  },
  {
   "cell_type": "code",
   "execution_count": null,
   "id": "6d4be344-2e76-4a13-a201-8ece34a60680",
   "metadata": {},
   "outputs": [],
   "source": [
    "    # method: change the weight of a single side\n",
    "    def change_facewt(self, face, nwt):\n",
    "        self.nwt = float(nwt)\n",
    "        self.face = face\n",
    "        x = len(self.faces)"
   ]
  },
  {
   "cell_type": "code",
   "execution_count": 1,
   "id": "d1a8c505-0e69-4305-8c38-9c6f39985837",
   "metadata": {
    "tags": []
   },
   "outputs": [
    {
     "data": {
      "text/plain": [
       "{'A': 1.0, 'B': 1.0, 'C': 1.0, 'D': 1.0}"
      ]
     },
     "execution_count": 1,
     "metadata": {},
     "output_type": "execute_result"
    }
   ],
   "source": [
    "nwt = 5.0\n",
    "face = 'A'\n",
    "\n",
    "faces = ['A', 'B', 'C', 'D']\n",
    "weights = [1.0, 1.0, 1.0, 1.0]\n",
    "die_dict = dict(zip(faces, weights))\n",
    "\n",
    "die_dict"
   ]
  },
  {
   "cell_type": "code",
   "execution_count": 2,
   "id": "a0283203-dfec-4292-9c9c-73b1ce8dc96c",
   "metadata": {
    "tags": []
   },
   "outputs": [],
   "source": [
    "#         self._gamestats.replace(self._gamestats.loc[self.face], self.nwt) ## !!! this isn't changing the value\n",
    "\n",
    "\n",
    "die_dict[face] = 5.0"
   ]
  },
  {
   "cell_type": "code",
   "execution_count": 3,
   "id": "96e2eee3-ead0-4ff9-b9a8-6c75b4761b6e",
   "metadata": {
    "tags": []
   },
   "outputs": [
    {
     "data": {
      "text/plain": [
       "{'A': 5.0, 'B': 1.0, 'C': 1.0, 'D': 1.0}"
      ]
     },
     "execution_count": 3,
     "metadata": {},
     "output_type": "execute_result"
    }
   ],
   "source": [
    "die_dict"
   ]
  },
  {
   "cell_type": "markdown",
   "id": "b38819e7-fb0d-41d2-b5bf-12645a7172f9",
   "metadata": {},
   "source": [
    "4/15: \n",
    "I think the solution is to change it to a dictionary and then it's easier to work with. \n",
    "Llike popping a column in and out as index, you can toggle back and forth between forms of pd.df and dict. "
   ]
  },
  {
   "cell_type": "code",
   "execution_count": null,
   "id": "42bc1127-57e4-45dc-b421-8937fa7586f9",
   "metadata": {},
   "outputs": [],
   "source": []
  }
 ],
 "metadata": {
  "kernelspec": {
   "display_name": "Python 3",
   "language": "python",
   "name": "python3"
  },
  "language_info": {
   "codemirror_mode": {
    "name": "ipython",
    "version": 3
   },
   "file_extension": ".py",
   "mimetype": "text/x-python",
   "name": "python",
   "nbconvert_exporter": "python",
   "pygments_lexer": "ipython3",
   "version": "3.11.4"
  }
 },
 "nbformat": 4,
 "nbformat_minor": 5
}
