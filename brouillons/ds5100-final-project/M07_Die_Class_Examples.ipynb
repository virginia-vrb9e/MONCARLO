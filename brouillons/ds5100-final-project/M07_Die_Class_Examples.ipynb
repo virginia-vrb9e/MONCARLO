{
 "cells": [
  {
   "cell_type": "markdown",
   "id": "c8382d14-e458-47a7-a3a9-be08796e8e47",
   "metadata": {
    "tags": []
   },
   "source": [
    "Let’s look at how classes evolve from and improve upon functional groups, discussed previously.\n",
    "\n",
    "### Method 1: Functions Relaying Data\n",
    "Let’s first define a set of functions that work in a sequence, where the return value of one is the argument of the other.\n",
    "\n",
    "In this example, we want to simulate the rolling of dice in a game of chance.\n",
    "\n",
    "To do this, **we could write three functions**:\n",
    "\n",
    "One to define a die.\n",
    "One to perform the action of rolling a die.\n",
    "One to show the results."
   ]
  },
  {
   "cell_type": "code",
   "execution_count": null,
   "id": "b6a33f9e-ece1-47be-b3d0-12ae9c7f5c67",
   "metadata": {},
   "outputs": [],
   "source": [
    "import pandas as pd\n",
    "import numpy as np\n",
    "\n",
    "def create_die(weights):\n",
    "    \"Create a simple die object of n sides with arbitrary weights. Return the die as a DataFrame.\"\n",
    "    n_sides = len(weights)\n",
    "    my_probs = [i/sum(weights) for i in weights]\n",
    "    my_die = pd.DataFrame({\n",
    "        'side': range(1, n_sides + 1),\n",
    "        'weights': my_probs\n",
    "    })\n",
    "    return my_die\n",
    "\n",
    "def roll_dice(my_die, n_rolls=1):\n",
    "    \"Roll a die one or more times and return the results as a Series.\"\n",
    "    results = []\n",
    "    for i in range(n_rolls):\n",
    "        result = my_die.side.sample(weights=my_die.weights).values[0]\n",
    "        results.append(result)\n",
    "    return pd.Series(results)\n",
    "\n",
    "def plot_results(my_results):\n",
    "    \"Show the results of rolling the dice n times with a simple bar graph.\"\n",
    "    my_results.value_counts().sort_index().plot.bar(rot=0);"
   ]
  },
  {
   "cell_type": "markdown",
   "id": "8ac66ab3-e7e6-43c6-bacf-4f2e67ca108e",
   "metadata": {},
   "source": [
    "#### instantiate"
   ]
  },
  {
   "cell_type": "code",
   "execution_count": null,
   "id": "064f94d0-3ea9-473c-b93b-20337ed5bf59",
   "metadata": {},
   "outputs": [],
   "source": [
    "# First, we create a fair die.\n",
    "\n",
    "fair_die = create_die([1,1,1,1,1,1,1])\n",
    "fair_die"
   ]
  },
  {
   "cell_type": "markdown",
   "id": "c0ef004a-8b6a-4fac-aad2-7fa48ae1788c",
   "metadata": {
    "tags": []
   },
   "source": [
    "#### roll the die n times"
   ]
  },
  {
   "cell_type": "code",
   "execution_count": null,
   "id": "5457ffc1-3119-445f-81e9-7dcc72555fa8",
   "metadata": {},
   "outputs": [],
   "source": [
    "# Next, we roll our die n times.\n",
    "\n",
    "n_rolls = 10\n",
    "fair_results = roll_dice(fair_die, n_rolls)\n",
    "fair_results"
   ]
  },
  {
   "cell_type": "markdown",
   "id": "2a90c0d0-1502-45e9-8860-346ba602cd9c",
   "metadata": {},
   "source": [
    "#### plot the results"
   ]
  },
  {
   "cell_type": "code",
   "execution_count": null,
   "id": "2c40d79f-4311-4a40-858d-c950e43d03e8",
   "metadata": {},
   "outputs": [],
   "source": [
    "# plot \n",
    "\n",
    "plot_results(fair_results)"
   ]
  },
  {
   "cell_type": "markdown",
   "id": "72a9f271-d52d-405d-9ec9-92f504686494",
   "metadata": {},
   "source": [
    "#### Let’s play with an unfair die."
   ]
  },
  {
   "cell_type": "code",
   "execution_count": null,
   "id": "0908d8b3-77d7-4436-a146-eac236597217",
   "metadata": {},
   "outputs": [],
   "source": [
    "# unfair die \n",
    "\n",
    "unfair_die = create_die([1,1,1,1,1,5])\n",
    "unfair_results = roll_dice(unfair_die, n_rolls)\n",
    "plot_results(unfair_results)"
   ]
  },
  {
   "cell_type": "markdown",
   "id": "517d5230-2174-495a-b04b-0e9ead4c077b",
   "metadata": {},
   "source": [
    "#### write a function to peform all of these actions at once."
   ]
  },
  {
   "cell_type": "code",
   "execution_count": 2,
   "id": "b974d71f-da80-4fe3-a8eb-0ff9aa1bc063",
   "metadata": {
    "tags": []
   },
   "outputs": [],
   "source": [
    "def do_it_all(weights, n_rolls):\n",
    "    plot_results(roll_dice(create_die(weights), n_rolls))\n",
    "    \n",
    "do_it_all([1,1,1,1,1,10], n_rolls)"
   ]
  },
  {
   "cell_type": "markdown",
   "id": "d84a93a4-8817-4fdd-8aea-27aa179d5a84",
   "metadata": {},
   "source": [
    "Note the nested structure of the functions.\n",
    "\n",
    "Each function uses the result of the previous.\n",
    "\n",
    "The pattern is to relay or hand-off data from one function to the other, as a ball in a rugby match."
   ]
  },
  {
   "cell_type": "markdown",
   "id": "75adf179-b8db-4682-aa4f-3e818fab7074",
   "metadata": {
    "tags": []
   },
   "source": [
    "____________________________________________________________________________\n",
    "### Method 2: Functions Sharing Globals\n",
    "Let’s try something different now.\n",
    "\n",
    "Instead of passing the data from function to function, let’s **centralize our data in a dictionary called config**.\n",
    "\n",
    "We’ll treat this dictionary as a global variable.\n",
    "\n",
    "Initially, config has this structure:"
   ]
  },
  {
   "cell_type": "code",
   "execution_count": null,
   "id": "253e21df-def1-4339-8d9c-d4679c1c7e07",
   "metadata": {},
   "outputs": [],
   "source": [
    "# initial config (??)\n",
    "\n",
    "config = {\n",
    "    \"die1\": {\n",
    "        \"weights\": [...]\n",
    "    },\n",
    "    \"die2\": {\n",
    "        \"weights\": [...]\n",
    "    },\n",
    "    ...\n",
    "}"
   ]
  },
  {
   "cell_type": "code",
   "execution_count": null,
   "id": "b705c5d8-90e4-4d70-84af-fde7058c3607",
   "metadata": {},
   "outputs": [],
   "source": [
    "def create_die2(die_id):\n",
    "    \"Create a die from data in config and add results to config.\"\n",
    "    global config\n",
    "    config[die_id]['die'] = None\n",
    "    weights = config[die_id]['weights']\n",
    "    n_sides = len(weights)\n",
    "    my_probs = [i/sum(weights) for i in weights]\n",
    "    config[die_id]['die'] = pd.DataFrame({\n",
    "        'side': range(1, n_sides + 1),\n",
    "        'weights': my_probs\n",
    "    })\n",
    "\n",
    "def roll_dice2(die_id):\n",
    "    \"Roll the die from the config and save results in the config.\"\n",
    "    global config\n",
    "    global n_rolls2\n",
    "    config[die_id]['results'] = None\n",
    "    my_die = config[die_id]['die']\n",
    "    results = []\n",
    "    for i in range(n_rolls2):\n",
    "        result = my_die.side.sample(weights=my_die.weights).values[0]\n",
    "        results.append(result)\n",
    "    config[die_id]['results'] = pd.Series(results)\n",
    "\n",
    "def plot_results2(die_id):\n",
    "    \"Plot the results in the config.\"\n",
    "    global config\n",
    "    my_results = config[die_id]['results']\n",
    "    my_results.value_counts().sort_index().plot.bar(rot=0);\n",
    "\n",
    "def do_it_all2(die_id):\n",
    "    \"Do everything.\"\n",
    "    global config\n",
    "    global n_rolls2\n",
    "    print(\"Die ID:\", die_id)\n",
    "    print(\"Weights:\", config[die_id]['weights'])\n",
    "    print(\"Rolls:\", n_rolls2)\n",
    "    create_die2(die_id)\n",
    "    roll_dice2(die_id)\n",
    "    plot_results2(die_id)"
   ]
  },
  {
   "cell_type": "markdown",
   "id": "347dc2ee-dc05-4aa1-bcba-07a1b15b4dc9",
   "metadata": {},
   "source": [
    "Note that it is not strictly necessary to use the global keyword in the functions above, since config and n_rolls2 are already invisible to the functions, and none of the functions reassign the variables, which would make them local. Sometimes we use global to fix the scope of variables just in case we reassign them.\n",
    "\n",
    "To use these functions, we start by populating our configuration with kinds of dice.\n",
    "\n",
    "We define an fair and an unfair version.\n",
    "\n",
    "As we can see from the method definitions in our class, the dictionaries associated with each key will take on more keys."
   ]
  },
  {
   "cell_type": "code",
   "execution_count": null,
   "id": "280864ec-d4ae-49da-9f8e-826867ab801f",
   "metadata": {},
   "outputs": [],
   "source": [
    "config = {\n",
    "    'fair': {\n",
    "        'weights': [1,1,1,1,1,1]\n",
    "    },\n",
    "    'unfair': {\n",
    "        'weights': [1,1,1,1,10,100],\n",
    "    }\n",
    "}"
   ]
  },
  {
   "cell_type": "markdown",
   "id": "fbea0af5-83f4-4291-8a4e-490df54a6f68",
   "metadata": {},
   "source": [
    "Now we call the main function do_it_all() by **giving the key of the die type with which we wish to play**.\n",
    "\n",
    "We also **assign to the global variable the number of rolls**."
   ]
  },
  {
   "cell_type": "code",
   "execution_count": null,
   "id": "49e44dd7-3aeb-4a05-b2ac-50c659bf4003",
   "metadata": {},
   "outputs": [],
   "source": [
    "# assign to the global variable the number of rolls\n",
    "\n",
    "n_rolls2 = 10\n",
    "\n",
    "# giving the key ('fair') of the die with which we wish to play\n",
    "\n",
    "do_it_all2('fair')"
   ]
  },
  {
   "cell_type": "code",
   "execution_count": null,
   "id": "c151abe5-aaec-4f8d-9ab3-f96b5bb7ebc5",
   "metadata": {},
   "outputs": [],
   "source": [
    "do_it_all2('unfair')"
   ]
  },
  {
   "cell_type": "markdown",
   "id": "0b14aa7e-dc22-4b9f-8871-fb57ab25fee6",
   "metadata": {},
   "source": [
    "#### Note how config has been modified.\n",
    "\n",
    "\n"
   ]
  },
  {
   "cell_type": "code",
   "execution_count": null,
   "id": "b98fa122-93be-4bf0-984c-a7331fcb809e",
   "metadata": {},
   "outputs": [],
   "source": [
    "config"
   ]
  },
  {
   "cell_type": "markdown",
   "id": "ad7ca5dd-f2a2-4e6e-a95d-f2eb4b16972d",
   "metadata": {},
   "source": [
    "#### Now let’s up the number of rolls a bit and roll both dice.\n",
    "\n"
   ]
  },
  {
   "cell_type": "code",
   "execution_count": null,
   "id": "10f988a1-080a-4976-ab34-0e8cdb9b4f23",
   "metadata": {},
   "outputs": [],
   "source": [
    "n_rolls2 = 1000 # By changing this we affect all uses of the functions until we change it.\n",
    "do_it_all2('unfair')"
   ]
  },
  {
   "cell_type": "code",
   "execution_count": null,
   "id": "4f6d710c-e740-4c5b-a19c-6995e4e6f957",
   "metadata": {},
   "outputs": [],
   "source": [
    "do_it_all2('fair')"
   ]
  },
  {
   "cell_type": "markdown",
   "id": "8eba9e95-b57b-452d-9b93-fda0e2357333",
   "metadata": {},
   "source": [
    "____________________\n",
    "### Method 3: Functions as Methods in a Class\n",
    "Finally, let’s **define a class that** \n",
    "- combines the configuration data structure \n",
    "- and all the functions **as attributes and methods**."
   ]
  },
  {
   "cell_type": "code",
   "execution_count": null,
   "id": "780a57b7-4ff9-4d90-80e1-8eb74bbc68fb",
   "metadata": {},
   "outputs": [],
   "source": [
    "class DieGame():\n",
    "        \n",
    "    def __init__(self):\n",
    "        \"Initalize the object by defining the number of rolls and the die weights. These can be changed after initialization.\"\n",
    "        self.n_rolls = 10\n",
    "        self.weights = [1,1,1,1,1,1]\n",
    "        \n",
    "    def create_die(self):\n",
    "        \"Create the die using the object's weights. Save to self as a DataFrame.\"\n",
    "        self.n_sides = len(self.weights)\n",
    "        self.my_probs = [i/sum(self.weights) for i in self.weights]\n",
    "        self.die = pd.DataFrame({\n",
    "            'side': range(1, self.n_sides + 1),\n",
    "            'weights': self.my_probs\n",
    "        })\n",
    "    \n",
    "    def roll_die(self):\n",
    "        \"Roll the die using the object's specified number of rolls and die. Save to self as a Series.\"\n",
    "        results = []\n",
    "        for i in range(self.n_rolls):\n",
    "            result = self.die.side.sample(weights=self.die.weights).values[0]\n",
    "            results.append(result)\n",
    "        self.results = pd.Series(results)        \n",
    "        \n",
    "    def plot_results(self):\n",
    "        \"Plot the results using the state stored in self.\"\n",
    "        prob_model = pd.Series({i+1:round(p, 2) for i, p in enumerate(self.my_probs)})\n",
    "        print(\"Sides:\", self.n_sides)\n",
    "        print(\"Model:\")\n",
    "        print(prob_model)\n",
    "        print(\"Rolls:\", self.n_rolls)\n",
    "        self.results.value_counts().sort_index().plot.bar(rot=0);\n",
    "        \n",
    "    # We add another method because it's so easy :-)\n",
    "    def plot_probs(self):\n",
    "        \"Plot the probabilities of the die sides.\"\n",
    "        pd.Series(self.my_probs).plot.pie(title=\"Die Model\")\n",
    "        \n",
    "    def do_it_all(self):\n",
    "        \"The main function that does everything.\"\n",
    "        self.create_die()\n",
    "        self.roll_die()\n",
    "        self.plot_results()\n",
    "        "
   ]
  },
  {
   "cell_type": "markdown",
   "id": "5ddea6ac-5c75-4a45-a739-4a77b45ff5c9",
   "metadata": {},
   "source": [
    "Let’s use our class, but change the number of rolls.\n",
    "\n"
   ]
  },
  {
   "cell_type": "code",
   "execution_count": null,
   "id": "92533317-e9e4-45b4-a4c8-e20cee585397",
   "metadata": {},
   "outputs": [],
   "source": [
    "game_1 = DieGame()\n",
    "game_1.n_rolls = 100 # We override the default\n",
    "game_1.do_it_all()"
   ]
  },
  {
   "cell_type": "markdown",
   "id": "7d9f26e2-8533-47c8-86d1-7de3ed387876",
   "metadata": {},
   "source": [
    "#### visualize the probabilities of each side as a pie chart."
   ]
  },
  {
   "cell_type": "code",
   "execution_count": null,
   "id": "ce26e064-632e-4baa-a488-89504de9e8a6",
   "metadata": {},
   "outputs": [],
   "source": [
    "game_1.plot_probs()"
   ]
  },
  {
   "cell_type": "markdown",
   "id": "24395205-e503-4b55-8d8c-fa9eb405ee62",
   "metadata": {},
   "source": [
    "#### create a new object, this time overriding both initial values."
   ]
  },
  {
   "cell_type": "code",
   "execution_count": null,
   "id": "be22ee9e-eed1-4c08-9df2-8fb2d55eb7f8",
   "metadata": {},
   "outputs": [],
   "source": [
    "game_2 = DieGame()\n",
    "game_2.n_rolls = 100\n",
    "game_2.weights = [1,1,1,5,10,10]\n",
    "game_2.do_it_all()"
   ]
  },
  {
   "cell_type": "code",
   "execution_count": null,
   "id": "e5fc0c64-146c-424d-b82a-67f1c3427b27",
   "metadata": {},
   "outputs": [],
   "source": [
    "game_2.plot_probs()"
   ]
  },
  {
   "cell_type": "markdown",
   "id": "915e31d7-d37c-4d26-9e70-3d75a953dc5f",
   "metadata": {},
   "source": [
    "### Some Conclusions\n",
    "Note how the *class definition* basically wraps both data and functions into a single entity.\n",
    "\n",
    "The *class defines a scope* that replaces the use of globals in our second method.\n",
    "\n",
    "**self** replaces the need to create a shared, global data structure like **config**.\n",
    "\n",
    "**Instead, each method shares the data in self.**\n",
    "\n",
    "Note also that **we don’t pass arguments to the object** as we do with functions (although we can).\n",
    "\n",
    "At each stage we interact with the object by setting attributes and calling methods."
   ]
  },
  {
   "cell_type": "markdown",
   "id": "7ca5ace5-0b1a-4705-b3d0-541f72ad705d",
   "metadata": {},
   "source": [
    "#### Note: A More Efficient Way To Roll\n",
    "In the above examples, instead of using a for loop and calling the .sample() method each time to simulate the rolling of a die, we can do this:"
   ]
  },
  {
   "cell_type": "code",
   "execution_count": null,
   "id": "97507407-55f6-4090-8965-510d9f8880d5",
   "metadata": {},
   "outputs": [],
   "source": [
    "self.results = self.die.side.sample(self.n_rolls, replace=True, weights=self.die.weights)"
   ]
  },
  {
   "cell_type": "markdown",
   "id": "bd821cbe-115c-44ac-bfd5-f1d8b1701884",
   "metadata": {},
   "source": [
    "The .sample() function takes an argument **(.n_rolls)** to specify the number of samples to draw. \n",
    "\n",
    "But be careful to set the **replace parameter** to True or False, depending on the kind of process you are trying to model."
   ]
  }
 ],
 "metadata": {
  "kernelspec": {
   "display_name": "Python 3",
   "language": "python",
   "name": "python3"
  },
  "language_info": {
   "codemirror_mode": {
    "name": "ipython",
    "version": 3
   },
   "file_extension": ".py",
   "mimetype": "text/x-python",
   "name": "python",
   "nbconvert_exporter": "python",
   "pygments_lexer": "ipython3",
   "version": "3.11.4"
  }
 },
 "nbformat": 4,
 "nbformat_minor": 5
}
