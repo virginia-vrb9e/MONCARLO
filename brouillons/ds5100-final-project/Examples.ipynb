{
 "cells": [
  {
   "cell_type": "markdown",
   "id": "59c56016-4ac9-4b64-b707-f7faf944e4b5",
   "metadata": {},
   "source": [
    "try, if, isinstance()"
   ]
  },
  {
   "cell_type": "code",
   "execution_count": null,
   "id": "e2bd7e8d-ab13-4b7d-8570-f76aee5e2af3",
   "metadata": {},
   "outputs": [],
   "source": [
    "class MyClass:\n",
    "    def __init__(self, value):\n",
    "        try:\n",
    "            if not isinstance(value, (int, float)):\n",
    "                raise TypeError(\"Value must be an integer or float\")\n",
    "            self.value = value\n",
    "        except TypeError as e:\n",
    "            print(f\"Error: {e}\")\n",
    "            self.value = 0  # Provide a default value or handle the error appropriately\n",
    "\n",
    "    def process_value(self):\n",
    "      try:\n",
    "        if isinstance(self.value, int):\n",
    "          return self.value * 2\n",
    "        elif isinstance(self.value, float):\n",
    "          return self.value / 2\n",
    "        else:\n",
    "          raise TypeError(\"Value must be an integer or float\")\n",
    "      except TypeError as e:\n",
    "        return f\"Error: {e}\""
   ]
  }
 ],
 "metadata": {
  "kernelspec": {
   "display_name": "Python 3",
   "language": "python",
   "name": "python3"
  },
  "language_info": {
   "codemirror_mode": {
    "name": "ipython",
    "version": 3
   },
   "file_extension": ".py",
   "mimetype": "text/x-python",
   "name": "python",
   "nbconvert_exporter": "python",
   "pygments_lexer": "ipython3",
   "version": "3.11.4"
  }
 },
 "nbformat": 4,
 "nbformat_minor": 5
}
