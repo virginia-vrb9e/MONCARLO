{
 "cells": [
  {
   "cell_type": "code",
   "execution_count": null,
   "id": "d75bd825-630a-4c50-a426-43aa50faefa4",
   "metadata": {},
   "outputs": [],
   "source": [
    " cn = [\"letters\", \"numbers\"]\n",
    "    arr_cn = np.array(cn)\n",
    "    english_letters = pd.read_csv(\"english_letters.txt\", sep = \" \", names = arr_cn)"
   ]
  }
 ],
 "metadata": {
  "kernelspec": {
   "display_name": "Python 3",
   "language": "python",
   "name": "python3"
  },
  "language_info": {
   "codemirror_mode": {
    "name": "ipython",
    "version": 3
   },
   "file_extension": ".py",
   "mimetype": "text/x-python",
   "name": "python",
   "nbconvert_exporter": "python",
   "pygments_lexer": "ipython3",
   "version": "3.11.4"
  }
 },
 "nbformat": 4,
 "nbformat_minor": 5
}
