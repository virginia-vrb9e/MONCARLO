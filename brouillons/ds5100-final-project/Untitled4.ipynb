{
 "cells": [
  {
   "cell_type": "markdown",
   "id": "a22d942c-dc7c-4877-969d-598b78c0787d",
   "metadata": {},
   "source": [
    "start with a dictionary format:"
   ]
  },
  {
   "cell_type": "code",
   "execution_count": 3,
   "id": "ba381d1a-1902-412c-b464-ebdf02388514",
   "metadata": {
    "tags": []
   },
   "outputs": [],
   "source": [
    "import pandas as pd\n",
    "\n",
    "data = {'Item': ['Apple', 'Banana', 'Orange'],\\\n",
    "        'Quantity': [10, 20, 30],'Price': [0.5, 0.3, 0.7]}"
   ]
  },
  {
   "cell_type": "markdown",
   "id": "bc1da724-7561-4358-9638-d33e85a7a554",
   "metadata": {},
   "source": [
    "create the dataframe"
   ]
  },
  {
   "cell_type": "code",
   "execution_count": 4,
   "id": "d3fe191e-b71f-4126-b6ed-8bfafe6673d4",
   "metadata": {
    "tags": []
   },
   "outputs": [
    {
     "data": {
      "text/html": [
       "<div>\n",
       "<style scoped>\n",
       "    .dataframe tbody tr th:only-of-type {\n",
       "        vertical-align: middle;\n",
       "    }\n",
       "\n",
       "    .dataframe tbody tr th {\n",
       "        vertical-align: top;\n",
       "    }\n",
       "\n",
       "    .dataframe thead th {\n",
       "        text-align: right;\n",
       "    }\n",
       "</style>\n",
       "<table border=\"1\" class=\"dataframe\">\n",
       "  <thead>\n",
       "    <tr style=\"text-align: right;\">\n",
       "      <th></th>\n",
       "      <th>Item</th>\n",
       "      <th>Quantity</th>\n",
       "      <th>Price</th>\n",
       "    </tr>\n",
       "  </thead>\n",
       "  <tbody>\n",
       "    <tr>\n",
       "      <th>0</th>\n",
       "      <td>Apple</td>\n",
       "      <td>10</td>\n",
       "      <td>0.5</td>\n",
       "    </tr>\n",
       "    <tr>\n",
       "      <th>1</th>\n",
       "      <td>Banana</td>\n",
       "      <td>20</td>\n",
       "      <td>0.3</td>\n",
       "    </tr>\n",
       "    <tr>\n",
       "      <th>2</th>\n",
       "      <td>Orange</td>\n",
       "      <td>30</td>\n",
       "      <td>0.7</td>\n",
       "    </tr>\n",
       "  </tbody>\n",
       "</table>\n",
       "</div>"
      ],
      "text/plain": [
       "     Item  Quantity  Price\n",
       "0   Apple        10    0.5\n",
       "1  Banana        20    0.3\n",
       "2  Orange        30    0.7"
      ]
     },
     "execution_count": 4,
     "metadata": {},
     "output_type": "execute_result"
    }
   ],
   "source": [
    "df = pd.DataFrame(data)\n",
    "df"
   ]
  },
  {
   "cell_type": "markdown",
   "id": "cf66d01f-a455-4e3b-9040-cc474348c63a",
   "metadata": {
    "tags": []
   },
   "source": [
    "iterate over the rows..."
   ]
  },
  {
   "cell_type": "code",
   "execution_count": 6,
   "id": "69698408-ae7c-4aeb-b809-553b4b05d093",
   "metadata": {
    "tags": []
   },
   "outputs": [
    {
     "name": "stdout",
     "output_type": "stream",
     "text": [
      "Apple Total Sales: $5.0\n",
      "Banana Total Sales: $6.0\n",
      "Orange Total Sales: $21.0\n"
     ]
    }
   ],
   "source": [
    "# Iterating over rows\n",
    "for index, row in df.iterrows():\n",
    "    total_sales = row['Quantity'] * row['Price']\n",
    "    print(f\"{row['Item']} Total Sales: ${total_sales}\")"
   ]
  },
  {
   "cell_type": "code",
   "execution_count": null,
   "id": "a32a9632-35f9-4f48-84ee-5f9356935435",
   "metadata": {},
   "outputs": [],
   "source": []
  }
 ],
 "metadata": {
  "kernelspec": {
   "display_name": "Python 3",
   "language": "python",
   "name": "python3"
  },
  "language_info": {
   "codemirror_mode": {
    "name": "ipython",
    "version": 3
   },
   "file_extension": ".py",
   "mimetype": "text/x-python",
   "name": "python",
   "nbconvert_exporter": "python",
   "pygments_lexer": "ipython3",
   "version": "3.11.4"
  }
 },
 "nbformat": 4,
 "nbformat_minor": 5
}
