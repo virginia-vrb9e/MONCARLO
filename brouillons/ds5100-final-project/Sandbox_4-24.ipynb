{
 "cells": [
  {
   "cell_type": "code",
   "execution_count": 65,
   "id": "2af11c17-e04d-45ca-90b2-b47f6273d489",
   "metadata": {
    "tags": []
   },
   "outputs": [],
   "source": [
    "import pandas as pd\n",
    "import numpy as np\n",
    "import matplotlib.image as mpimg\n",
    "import matplotlib.pyplot as plt\n",
    "\n",
    "# The Die class\n",
    "class MonCarloDevice():\n",
    "    \n",
    "#    img = mpimg.imread('d20_met_nyc.jpg')\n",
    "#    plt.imshow(img)\n",
    "#    print(\"THE MET Museum: \\nicosahedron with faces inscribed with Greek letters \\nPtolemaic Period–Roman Period\\n(2nd century B.C.– 4th century A.D.)\")\n",
    "#    print(\"Read about this ancient Monte Carlo device: https://www.metmuseum.org/art/collection/search/551072\")\n",
    "    \n",
    "    # method: the initializer\n",
    "    \n",
    "    def __init__(self, faces):\n",
    "        self.faces = faces\n",
    "        print(type(faces))\n",
    "            \n",
    "        # check that faces is np.array\n",
    "    \n",
    "        if not isinstance(faces, np.ndarray):  \n",
    "            raise TypeError(\"Input of faces must be an NumPy array.\") \n",
    "        else:\n",
    "            print(\"yes, this is an np.ndarray!\")\n",
    "            \n",
    "            \n",
    "        # check that faces are strings or numbers\n",
    "        # https://github.com/numpy/numpy/issues/17325\n",
    "        # https://stackoverflow.com/questions/30086936/what-is-the-difference-between-the-types-type-numpy-string-and-type-str\n",
    "        \n",
    "        x = len(self.faces)\n",
    "        for i in range(x):\n",
    "            if not isinstance(self.faces[i], (str)):\n",
    "                float(i)\n",
    "                print(\"switched to float\")\n",
    "            else:\n",
    "                print(\"check ok: this face is either a string or number.\") \n",
    "            \n",
    "#        if not isinstance(self.faces,(np.integer, np.floating, np.string_)):\n",
    "#            raise TypeError(\"face values must be either strings or numbers.\")\n",
    "#        else:\n",
    "#            print(\"check ok: all face values are either strings or numbers\")         \n",
    "         \n",
    "        # check that faces are unique values \n",
    "        \n",
    "        uniq = np.unique(faces)  # np.unique returns array of unique values\n",
    "        if len(uniq) != len(faces):\n",
    "             raise ValueError(\"The NumPy array of faces for your device must be of unique values.\")\n",
    " \n",
    "        # initiate the weights as 1.0   \n",
    "        \n",
    "        self.weights = []\n",
    "        self.num_faces = len(faces)\n",
    "        x = len(self.faces)\n",
    "        \n",
    "        for i in range(x):\n",
    "            self.weights.append(1.0)\n",
    "        \n",
    "        # return faces and weights in a private df w/ faces as index\n",
    "        \n",
    "        self._gamestats = pd.DataFrame(\n",
    "            self.weights,\n",
    "            index = self.faces)\n",
    "            \n",
    "    # method: change the weight of a single side\n",
    "    def change_facewt(self, face, nwt):\n",
    "        self.nwt = nwt\n",
    "        self.face = face\n",
    "        x = len(self.faces)\n",
    "\n",
    "        # checks to see if face passed is valid - if it's in the die array | IndexError\n",
    "        is_in = np.isin(self.faces, self.face)\n",
    "        for i in is_in:\n",
    "            if self.face not in self.faces: \n",
    "                raise IndexError(f\"{face} is not a face on this device.\")\n",
    "            else:\n",
    "                print(\"check okay: that face exists.\")\n",
    "            \n",
    "        # check if nwt is int or float - OR castable | TypeError\n",
    "        if not isinstance(nwt, (int, float)):\n",
    "            float(nwt)  # hopefully checks if the input is castable by attempting; returns ValueError if not castable\n",
    "        if not isinstance(nwt, float):\n",
    "            raise TypeError(\"New weight must be numeric.\")\n",
    "            \n",
    "        self._gamestats.replace(self._gamestats.loc[face], self.nwt) ## !!! this isn't changing the value\n",
    "    \n",
    "    # method: roll the device one or more times\n",
    "    def roll_ntimes(self, ntimes = 1):\n",
    "        rolls = []\n",
    "        \n",
    "        for i in range(ntimes):\n",
    "            rolls.append(self._gamestats.sample(replace = True))  \n",
    "        return rolls\n",
    "    \n",
    "    # method: show the device's current state\n",
    "    def current_state(self):\n",
    "        print(f_gamestats)\n",
    "    "
   ]
  },
  {
   "cell_type": "code",
   "execution_count": 59,
   "id": "533d7e1e-61e5-4da5-b4cc-6d86bb1f8bc6",
   "metadata": {
    "tags": []
   },
   "outputs": [
    {
     "name": "stdout",
     "output_type": "stream",
     "text": [
      "<class 'numpy.ndarray'>\n",
      "yes, this is an np.ndarray!\n",
      "check ok: this face is either a string or number.\n",
      "check ok: this face is either a string or number.\n",
      "check ok: this face is either a string or number.\n",
      "check ok: this face is either a string or number.\n",
      "check ok: this face is either a string or number.\n"
     ]
    }
   ],
   "source": [
    "argh = np.array(['A', 'B', 'C', 'D', 'E'])\n",
    "die_1_9 = MonCarloDevice(argh)"
   ]
  },
  {
   "cell_type": "code",
   "execution_count": 60,
   "id": "eb0a0b65-96a7-4f25-982a-aca4e5ca9f93",
   "metadata": {
    "tags": []
   },
   "outputs": [
    {
     "data": {
      "text/html": [
       "<div>\n",
       "<style scoped>\n",
       "    .dataframe tbody tr th:only-of-type {\n",
       "        vertical-align: middle;\n",
       "    }\n",
       "\n",
       "    .dataframe tbody tr th {\n",
       "        vertical-align: top;\n",
       "    }\n",
       "\n",
       "    .dataframe thead th {\n",
       "        text-align: right;\n",
       "    }\n",
       "</style>\n",
       "<table border=\"1\" class=\"dataframe\">\n",
       "  <thead>\n",
       "    <tr style=\"text-align: right;\">\n",
       "      <th></th>\n",
       "      <th>0</th>\n",
       "    </tr>\n",
       "  </thead>\n",
       "  <tbody>\n",
       "    <tr>\n",
       "      <th>A</th>\n",
       "      <td>1.0</td>\n",
       "    </tr>\n",
       "    <tr>\n",
       "      <th>B</th>\n",
       "      <td>1.0</td>\n",
       "    </tr>\n",
       "    <tr>\n",
       "      <th>C</th>\n",
       "      <td>1.0</td>\n",
       "    </tr>\n",
       "    <tr>\n",
       "      <th>D</th>\n",
       "      <td>1.0</td>\n",
       "    </tr>\n",
       "    <tr>\n",
       "      <th>E</th>\n",
       "      <td>1.0</td>\n",
       "    </tr>\n",
       "  </tbody>\n",
       "</table>\n",
       "</div>"
      ],
      "text/plain": [
       "     0\n",
       "A  1.0\n",
       "B  1.0\n",
       "C  1.0\n",
       "D  1.0\n",
       "E  1.0"
      ]
     },
     "execution_count": 60,
     "metadata": {},
     "output_type": "execute_result"
    }
   ],
   "source": [
    "die_1_9._gamestats\n"
   ]
  },
  {
   "cell_type": "code",
   "execution_count": 61,
   "id": "43087796-4939-4a4c-a31d-5ae14e04f045",
   "metadata": {
    "tags": []
   },
   "outputs": [
    {
     "data": {
      "text/plain": [
       "[     0\n",
       " A  1.0,\n",
       "      0\n",
       " B  1.0,\n",
       "      0\n",
       " C  1.0,\n",
       "      0\n",
       " C  1.0,\n",
       "      0\n",
       " B  1.0]"
      ]
     },
     "execution_count": 61,
     "metadata": {},
     "output_type": "execute_result"
    }
   ],
   "source": [
    "die_1_9.roll_ntimes(5)"
   ]
  },
  {
   "cell_type": "code",
   "execution_count": 64,
   "id": "a9f9eb18-fc67-4267-9ee0-dd255d63ee97",
   "metadata": {
    "tags": []
   },
   "outputs": [
    {
     "data": {
      "text/plain": [
       "<bound method MonCarloDevice.current_state of <__main__.MonCarloDevice object at 0x7fc3c9be5010>>"
      ]
     },
     "execution_count": 64,
     "metadata": {},
     "output_type": "execute_result"
    }
   ],
   "source": [
    "die_1_9.current_state"
   ]
  },
  {
   "cell_type": "code",
   "execution_count": null,
   "id": "e488212e-0de4-4506-8793-c9e361326e1a",
   "metadata": {},
   "outputs": [],
   "source": []
  },
  {
   "cell_type": "code",
   "execution_count": null,
   "id": "dc1851df-54ed-4450-9c91-031979030978",
   "metadata": {},
   "outputs": [],
   "source": []
  }
 ],
 "metadata": {
  "kernelspec": {
   "display_name": "Python 3",
   "language": "python",
   "name": "python3"
  },
  "language_info": {
   "codemirror_mode": {
    "name": "ipython",
    "version": 3
   },
   "file_extension": ".py",
   "mimetype": "text/x-python",
   "name": "python",
   "nbconvert_exporter": "python",
   "pygments_lexer": "ipython3",
   "version": "3.11.4"
  }
 },
 "nbformat": 4,
 "nbformat_minor": 5
}
