{
 "cells": [
  {
   "cell_type": "code",
   "execution_count": 4,
   "id": "85effbcb-f881-47cf-b369-5943f3ed22bb",
   "metadata": {
    "tags": []
   },
   "outputs": [
    {
     "data": {
      "text/plain": [
       "numpy.str_"
      ]
     },
     "execution_count": 4,
     "metadata": {},
     "output_type": "execute_result"
    }
   ],
   "source": [
    "import numpy as np\n",
    "\n",
    "faces = np.array(['a', 'b', 'c', 'd'])\n",
    "faces\n",
    "#type(faces)\n",
    "type(faces[1])"
   ]
  },
  {
   "cell_type": "code",
   "execution_count": null,
   "id": "2dc8f22a-d0c8-4efd-b146-f6795bc40441",
   "metadata": {},
   "outputs": [],
   "source": [
    "for i in range(len(faces)):\n",
    "    if not isinstance(self.faces[i], (int, float, str)):\n",
    "        raise TypeError(\"face values must be either strings or numbers.\")\n",
    "\n",
    "print(\"check ok: all face values are either strings or numbers\") "
   ]
  }
 ],
 "metadata": {
  "kernelspec": {
   "display_name": "Python 3",
   "language": "python",
   "name": "python3"
  },
  "language_info": {
   "codemirror_mode": {
    "name": "ipython",
    "version": 3
   },
   "file_extension": ".py",
   "mimetype": "text/x-python",
   "name": "python",
   "nbconvert_exporter": "python",
   "pygments_lexer": "ipython3",
   "version": "3.11.4"
  }
 },
 "nbformat": 4,
 "nbformat_minor": 5
}
