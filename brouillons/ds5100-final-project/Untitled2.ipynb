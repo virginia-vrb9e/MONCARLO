{
 "cells": [
  {
   "cell_type": "code",
   "execution_count": 1,
   "id": "eae30f3d-d0f4-49f8-b38f-24c1e1c0a54d",
   "metadata": {
    "tags": []
   },
   "outputs": [],
   "source": [
    "import numpy as np\n",
    "import matplotlib.image as mpimg\n",
    "import matplotlib.pyplot as plt\n",
    "\n",
    "# The Die class\n",
    "class MonCarloDevice():\n",
    "    \n",
    "#    img = mpimg.imread('d20_met_nyc.jpg')\n",
    "#    plt.imshow(img)\n",
    "#    print(\"THE MET Museum: \\nicosahedron with faces inscribed with Greek letters \\nPtolemaic Period–Roman Period\\n(2nd century B.C.– 4th century A.D.)\")\n",
    "#    print(\"Read about this ancient Monte Carlo device: https://www.metmuseum.org/art/collection/search/551072\")\n",
    "    \n",
    "    # method: the initializer\n",
    "    \n",
    "    def __init__(self, faces):\n",
    "        self.faces = faces\n",
    "        print(type(faces))\n",
    "            \n",
    "            \n",
    "        # check that faces is np.array\n",
    "        if not isinstance(faces, np.ndarray):  \n",
    "            raise TypeError(\"Input of faces must be an NumPy array.\") \n",
    "        else:\n",
    "            print(\"yes, this is an np.ndarray!\")\n",
    "            \n",
    "            \n",
    "        # check that faces are strings or numbers\n",
    "        # https://github.com/numpy/numpy/issues/17325\n",
    "        # https://stackoverflow.com/questions/30086936/what-is-the-difference-between-the-types-type-numpy-string-and-type-str\n",
    "        \n",
    "        x = len(self.faces)\n",
    "        for i in range(x):\n",
    "            if not isinstance(self.faces[i], (str)):\n",
    "                float(i)\n",
    "                print(\"switched to float\")\n",
    "            else:\n",
    "                print(\"check ok: this face is either a string or number.\") \n",
    "            \n",
    "#        if not isinstance(self.faces,(np.integer, np.floating, np.string_)):\n",
    "#            raise TypeError(\"face values must be either strings or numbers.\")\n",
    "#        else:\n",
    "#            print(\"check ok: all face values are either strings or numbers\")         \n",
    "\n",
    "    \n",
    "        # check that faces are unique values \n",
    "        uniq = np.unique(faces)  # np.unique returns array of unique values\n",
    "        if len(uniq) != len(faces):\n",
    "            raise ValueError(\"The NumPy array of faces for your device must be of unique values.\")\n",
    "\n",
    "\n",
    "        # initiate the weights as 1.0   \n",
    "        self.weights = []\n",
    "        self.num_faces = len(faces)\n",
    "        x = len(self.faces)\n",
    "        \n",
    "#        for i in range(x):\n",
    "#            self.weights.append(1.0)\n",
    "        self.weights.extend(1.0 * x)  # replacing for loop with comprehension\n",
    "    \n",
    "        # return faces and weights in a private df w/ faces as index\n",
    "        col_names = ['weight']\n",
    "        self._gamestats = pd.DataFrame(\n",
    "            self.weights,\n",
    "            index = self.faces, columns = col_names)\n",
    "            \n",
    "            \n",
    "    # method: change the weight of a single side\n",
    "    def change_facewt(self, face, nwt):\n",
    "        self.nwt = float(nwt)\n",
    "        self.face = face\n",
    "        x = len(self.faces)\n",
    "\n",
    "        # checks to see if face passed is valid - if it's in the die array | IndexError\n",
    "        is_in = np.isin(self.faces, self.face)\n",
    "        for _ in is_in:\n",
    "            if self.face not in self.faces: \n",
    "                raise IndexError(f\"{face} is not a face on this device.\")\n",
    "            else:\n",
    "                print(\"check okay: that face exists.\")\n",
    "                \n",
    "        # check if nwt is int or float - OR castable | TypeError\n",
    "        if not isinstance(nwt, (int, float)):\n",
    "            try:\n",
    "                nwt = float(nwt)  \n",
    "            except:\n",
    "                raise TypeError(\"New weight must be numeric.\")\n",
    "            \n",
    "        self._gamestats.replace(self._gamestats.loc[face], self.nwt) ## !!! this isn't changing the value\n",
    "    \n",
    "    \n",
    "    # method: roll the die one or more times\n",
    "    def roll_ntimes(self, ntimes = 1):\n",
    "        rolls = []\n",
    "    \n",
    "    # method: show die's current state\n",
    "    def current_state(self):\n",
    "        print(self._gamestats())"
   ]
  },
  {
   "cell_type": "code",
   "execution_count": 2,
   "id": "f51270e0-f10d-4a60-9df9-b167ab52d67b",
   "metadata": {
    "tags": []
   },
   "outputs": [
    {
     "name": "stdout",
     "output_type": "stream",
     "text": [
      "<class 'numpy.ndarray'>\n",
      "yes, this is an np.ndarray!\n",
      "check ok: this face is either a string or number.\n",
      "check ok: this face is either a string or number.\n",
      "check ok: this face is either a string or number.\n",
      "check ok: this face is either a string or number.\n"
     ]
    },
    {
     "ename": "TypeError",
     "evalue": "'float' object is not iterable",
     "output_type": "error",
     "traceback": [
      "\u001b[0;31m---------------------------------------------------------------------------\u001b[0m",
      "\u001b[0;31mTypeError\u001b[0m                                 Traceback (most recent call last)",
      "Cell \u001b[0;32mIn[2], line 3\u001b[0m\n\u001b[1;32m      1\u001b[0m a \u001b[38;5;241m=\u001b[39m np\u001b[38;5;241m.\u001b[39marray([\u001b[38;5;124m'\u001b[39m\u001b[38;5;124maa\u001b[39m\u001b[38;5;124m'\u001b[39m, \u001b[38;5;124m'\u001b[39m\u001b[38;5;124myyy\u001b[39m\u001b[38;5;124m'\u001b[39m, \u001b[38;5;124m'\u001b[39m\u001b[38;5;124mzzzz\u001b[39m\u001b[38;5;124m'\u001b[39m, \u001b[38;5;124m'\u001b[39m\u001b[38;5;124mdelta\u001b[39m\u001b[38;5;124m'\u001b[39m])\n\u001b[0;32m----> 3\u001b[0m die111 \u001b[38;5;241m=\u001b[39m \u001b[43mMonCarloDevice\u001b[49m\u001b[43m(\u001b[49m\u001b[43ma\u001b[49m\u001b[43m)\u001b[49m\n",
      "Cell \u001b[0;32mIn[1], line 58\u001b[0m, in \u001b[0;36mMonCarloDevice.__init__\u001b[0;34m(self, faces)\u001b[0m\n\u001b[1;32m     54\u001b[0m         x \u001b[38;5;241m=\u001b[39m \u001b[38;5;28mlen\u001b[39m(\u001b[38;5;28mself\u001b[39m\u001b[38;5;241m.\u001b[39mfaces)\n\u001b[1;32m     56\u001b[0m \u001b[38;5;66;03m#        for i in range(x):\u001b[39;00m\n\u001b[1;32m     57\u001b[0m \u001b[38;5;66;03m#            self.weights.append(1.0)\u001b[39;00m\n\u001b[0;32m---> 58\u001b[0m         \u001b[38;5;28;43mself\u001b[39;49m\u001b[38;5;241;43m.\u001b[39;49m\u001b[43mweights\u001b[49m\u001b[38;5;241;43m.\u001b[39;49m\u001b[43mextend\u001b[49m\u001b[43m(\u001b[49m\u001b[38;5;241;43m1.0\u001b[39;49m\u001b[43m \u001b[49m\u001b[38;5;241;43m*\u001b[39;49m\u001b[43m \u001b[49m\u001b[43mx\u001b[49m\u001b[43m)\u001b[49m  \u001b[38;5;66;03m# replacing for loop with comprehension\u001b[39;00m\n\u001b[1;32m     60\u001b[0m         \u001b[38;5;66;03m# return faces and weights in a private df w/ faces as index\u001b[39;00m\n\u001b[1;32m     61\u001b[0m         col_names \u001b[38;5;241m=\u001b[39m [\u001b[38;5;124m'\u001b[39m\u001b[38;5;124mweight\u001b[39m\u001b[38;5;124m'\u001b[39m]\n",
      "\u001b[0;31mTypeError\u001b[0m: 'float' object is not iterable"
     ]
    }
   ],
   "source": [
    "a = np.array(['aa', 'yyy', 'zzzz', 'delta'])\n",
    "\n",
    "die111 = MonCarloDevice(a)"
   ]
  },
  {
   "cell_type": "code",
   "execution_count": null,
   "id": "c5389d23-ed8c-461c-a300-9bd4c915169a",
   "metadata": {},
   "outputs": [],
   "source": []
  }
 ],
 "metadata": {
  "kernelspec": {
   "display_name": "Python 3",
   "language": "python",
   "name": "python3"
  },
  "language_info": {
   "codemirror_mode": {
    "name": "ipython",
    "version": 3
   },
   "file_extension": ".py",
   "mimetype": "text/x-python",
   "name": "python",
   "nbconvert_exporter": "python",
   "pygments_lexer": "ipython3",
   "version": "3.11.4"
  }
 },
 "nbformat": 4,
 "nbformat_minor": 5
}
