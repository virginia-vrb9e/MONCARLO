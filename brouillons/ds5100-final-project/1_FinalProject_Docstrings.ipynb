{
 "cells": [
  {
   "cell_type": "markdown",
   "id": "99706cd6-9869-40f0-8892-94814d4cf5c6",
   "metadata": {},
   "source": [
    "### DOCSTRINGS"
   ]
  },
  {
   "cell_type": "code",
   "execution_count": null,
   "id": "8435a1ad-792a-4b8e-b487-8109b98010c8",
   "metadata": {},
   "outputs": [],
   "source": [
    "# class GoGoCarlo()\n",
    "\n",
    "    \"\"\"\n",
    "    1. creates a game\n",
    "    2. takes N, a number of sides for the Monte Carlo device where N<=20\n",
    "    \"\"\""
   ]
  },
  {
   "cell_type": "code",
   "execution_count": null,
   "id": "5c85c781-8a6a-4312-8b8c-b4625788ceda",
   "metadata": {},
   "outputs": [],
   "source": [
    "# def __init__(self, faces):\n",
    "    \"\"\" \n",
    "        This initializer:\n",
    "        \n",
    "        (1) takes a NumPy array (of dtype string or numbers) of DISTINCT faces as an argument. \n",
    "            - throws a TypeError if it is not a NumPy array\n",
    "            - checks to see if the array values are distinct - ValueError if not\n",
    "            \n",
    "        (2) initializes an MC object with a default value for weights, W = 1.0.\n",
    "        \n",
    "        (3)Returns a private dataframe with the faces of the MC object as index.\n",
    "        \"\"\"\n"
   ]
  },
  {
   "cell_type": "code",
   "execution_count": null,
   "id": "f8daab57-5316-49cf-bd2a-ca9d54adaed4",
   "metadata": {},
   "outputs": [],
   "source": []
  }
 ],
 "metadata": {
  "kernelspec": {
   "display_name": "Python 3",
   "language": "python",
   "name": "python3"
  },
  "language_info": {
   "codemirror_mode": {
    "name": "ipython",
    "version": 3
   },
   "file_extension": ".py",
   "mimetype": "text/x-python",
   "name": "python",
   "nbconvert_exporter": "python",
   "pygments_lexer": "ipython3",
   "version": "3.11.4"
  }
 },
 "nbformat": 4,
 "nbformat_minor": 5
}
