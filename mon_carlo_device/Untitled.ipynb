{
 "cells": [
  {
   "cell_type": "code",
   "execution_count": 35,
   "id": "b6be6c45-d5c2-4152-8798-9e6a52cc5442",
   "metadata": {
    "tags": []
   },
   "outputs": [],
   "source": [
    "import os \n",
    "import moncarlo\n",
    "import pandas as pd\n",
    "import numpy as np\n",
    "import matplotlib"
   ]
  },
  {
   "cell_type": "code",
   "execution_count": 36,
   "id": "cd718612-3531-4eba-a568-dbab9fe0b7f9",
   "metadata": {
    "tags": []
   },
   "outputs": [],
   "source": [
    "import moncarlo"
   ]
  },
  {
   "cell_type": "code",
   "execution_count": 37,
   "id": "f51995a5-6cd2-4ebc-a146-59414337d2bc",
   "metadata": {
    "tags": []
   },
   "outputs": [
    {
     "name": "stdout",
     "output_type": "stream",
     "text": [
      "<class 'numpy.ndarray'>\n",
      "yes, this is an np.ndarray!\n",
      "check ok.\n",
      "check ok.\n",
      "check ok.\n"
     ]
    }
   ],
   "source": [
    "a = np.array(['a','b','c'])\n",
    "die2 = moncarlo.MonCarloDevice(a)"
   ]
  },
  {
   "cell_type": "code",
   "execution_count": 38,
   "id": "485538b8-e069-4594-b1c3-e0d207517c23",
   "metadata": {
    "tags": []
   },
   "outputs": [],
   "source": [
    "import moncarlo_justincase"
   ]
  },
  {
   "cell_type": "code",
   "execution_count": 39,
   "id": "b78dfdc0-0375-4db0-aad8-8df66b8eccbb",
   "metadata": {
    "tags": []
   },
   "outputs": [],
   "source": [
    "import moncarlo\n"
   ]
  },
  {
   "cell_type": "code",
   "execution_count": null,
   "id": "652b77d2-2c4a-4733-a0a4-aa7c8650afd8",
   "metadata": {},
   "outputs": [],
   "source": [
    "help(moncarlo)"
   ]
  },
  {
   "cell_type": "code",
   "execution_count": null,
   "id": "474e94c3-8774-465f-a6c1-aed58e58f29e",
   "metadata": {},
   "outputs": [],
   "source": []
  }
 ],
 "metadata": {
  "kernelspec": {
   "display_name": "Python 3",
   "language": "python",
   "name": "python3"
  },
  "language_info": {
   "codemirror_mode": {
    "name": "ipython",
    "version": 3
   },
   "file_extension": ".py",
   "mimetype": "text/x-python",
   "name": "python",
   "nbconvert_exporter": "python",
   "pygments_lexer": "ipython3",
   "version": "3.11.4"
  }
 },
 "nbformat": 4,
 "nbformat_minor": 5
}
