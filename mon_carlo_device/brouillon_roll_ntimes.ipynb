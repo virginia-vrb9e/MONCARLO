{
 "cells": [
  {
   "cell_type": "markdown",
   "id": "3f391826-097e-401b-b8fb-0be89ac62374",
   "metadata": {},
   "source": [
    "Sandbox: roll n_times"
   ]
  },
  {
   "cell_type": "code",
   "execution_count": 13,
   "id": "ab2dacff-5b43-4810-a789-8bb910942392",
   "metadata": {
    "tags": []
   },
   "outputs": [],
   "source": [
    "    # 1st method: roll the die one or more times\n",
    "    def roll_ntimes(self, ntimes = 1):\n",
    "        rolls = []\n",
    "     \n",
    "        for index in self._gamestats.iterrows():\n",
    "#            rolls.append(self.faces.sample(replace = True))  \n",
    "            rolls.append(index[0])\n",
    "        return rolls"
   ]
  },
  {
   "cell_type": "code",
   "execution_count": 14,
   "id": "22c025bd-dfbd-4695-9624-9bc91cc2b52c",
   "metadata": {
    "tags": []
   },
   "outputs": [
    {
     "data": {
      "text/html": [
       "<div>\n",
       "<style scoped>\n",
       "    .dataframe tbody tr th:only-of-type {\n",
       "        vertical-align: middle;\n",
       "    }\n",
       "\n",
       "    .dataframe tbody tr th {\n",
       "        vertical-align: top;\n",
       "    }\n",
       "\n",
       "    .dataframe thead th {\n",
       "        text-align: right;\n",
       "    }\n",
       "</style>\n",
       "<table border=\"1\" class=\"dataframe\">\n",
       "  <thead>\n",
       "    <tr style=\"text-align: right;\">\n",
       "      <th></th>\n",
       "      <th>weights</th>\n",
       "    </tr>\n",
       "    <tr>\n",
       "      <th>faces</th>\n",
       "      <th></th>\n",
       "    </tr>\n",
       "  </thead>\n",
       "  <tbody>\n",
       "    <tr>\n",
       "      <th>A</th>\n",
       "      <td>1</td>\n",
       "    </tr>\n",
       "    <tr>\n",
       "      <th>B</th>\n",
       "      <td>1</td>\n",
       "    </tr>\n",
       "    <tr>\n",
       "      <th>C</th>\n",
       "      <td>1</td>\n",
       "    </tr>\n",
       "    <tr>\n",
       "      <th>D</th>\n",
       "      <td>1</td>\n",
       "    </tr>\n",
       "  </tbody>\n",
       "</table>\n",
       "</div>"
      ],
      "text/plain": [
       "       weights\n",
       "faces         \n",
       "A            1\n",
       "B            1\n",
       "C            1\n",
       "D            1"
      ]
     },
     "execution_count": 14,
     "metadata": {},
     "output_type": "execute_result"
    }
   ],
   "source": [
    "import pandas as pd\n",
    "\n",
    "# Create a simple 4x2 DataFrame\n",
    "data = {\n",
    "    'faces': ['A', 'B', 'C', 'D'],\n",
    "    'weights': [1, 1, 1, 1]\n",
    "}\n",
    "df = pd.DataFrame(data)\n",
    "df = df.set_index('faces')\n",
    "df"
   ]
  },
  {
   "cell_type": "code",
   "execution_count": 15,
   "id": "cabb87c4-6f63-409f-a064-70c8a50554c6",
   "metadata": {
    "tags": []
   },
   "outputs": [],
   "source": [
    "rolls = []\n",
    "n_roll = 10"
   ]
  },
  {
   "cell_type": "code",
   "execution_count": 16,
   "id": "1cc5102d-8166-4f0e-9dcc-1c5291f15297",
   "metadata": {
    "tags": []
   },
   "outputs": [
    {
     "name": "stdout",
     "output_type": "stream",
     "text": [
      "[       weights\n",
      "faces         \n",
      "D            1]\n"
     ]
    }
   ],
   "source": [
    "for index, row in enumerate(df):\n",
    "    rolls[index] = \n",
    "    rolls.append(df.sample(replace = True))  \n",
    "print(rolls)"
   ]
  },
  {
   "cell_type": "code",
   "execution_count": 18,
   "id": "0520d0f3-961a-4700-9086-2e81844c8c80",
   "metadata": {
    "tags": []
   },
   "outputs": [
    {
     "name": "stdout",
     "output_type": "stream",
     "text": [
      "['A', 'B', 'C', 'D']\n"
     ]
    }
   ],
   "source": [
    "rolls = []\n",
    "for index, row in df.iterrows():\n",
    "    rolls.append(index)\n",
    "print(rolls)"
   ]
  },
  {
   "cell_type": "code",
   "execution_count": null,
   "id": "d83583f8-b58d-4ff3-a775-a40f695acd63",
   "metadata": {},
   "outputs": [],
   "source": []
  },
  {
   "cell_type": "code",
   "execution_count": null,
   "id": "7c7e7ee5-8879-46d6-875f-c81d2c8dd015",
   "metadata": {},
   "outputs": [],
   "source": []
  }
 ],
 "metadata": {
  "kernelspec": {
   "display_name": "Python 3",
   "language": "python",
   "name": "python3"
  },
  "language_info": {
   "codemirror_mode": {
    "name": "ipython",
    "version": 3
   },
   "file_extension": ".py",
   "mimetype": "text/x-python",
   "name": "python",
   "nbconvert_exporter": "python",
   "pygments_lexer": "ipython3",
   "version": "3.11.4"
  }
 },
 "nbformat": 4,
 "nbformat_minor": 5
}
