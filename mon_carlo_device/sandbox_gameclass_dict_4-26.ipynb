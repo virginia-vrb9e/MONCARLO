{
 "cells": [
  {
   "cell_type": "code",
   "execution_count": 23,
   "id": "6e8a9cb4-37aa-4f67-bfc6-91333c4bbf10",
   "metadata": {},
   "outputs": [
    {
     "data": {
      "text/html": [
       "<div>\n",
       "<style scoped>\n",
       "    .dataframe tbody tr th:only-of-type {\n",
       "        vertical-align: middle;\n",
       "    }\n",
       "\n",
       "    .dataframe tbody tr th {\n",
       "        vertical-align: top;\n",
       "    }\n",
       "\n",
       "    .dataframe thead th {\n",
       "        text-align: right;\n",
       "    }\n",
       "</style>\n",
       "<table border=\"1\" class=\"dataframe\">\n",
       "  <thead>\n",
       "    <tr style=\"text-align: right;\">\n",
       "      <th></th>\n",
       "      <th>weights</th>\n",
       "    </tr>\n",
       "    <tr>\n",
       "      <th>faces</th>\n",
       "      <th></th>\n",
       "    </tr>\n",
       "  </thead>\n",
       "  <tbody>\n",
       "    <tr>\n",
       "      <th>A</th>\n",
       "      <td>1</td>\n",
       "    </tr>\n",
       "    <tr>\n",
       "      <th>B</th>\n",
       "      <td>1</td>\n",
       "    </tr>\n",
       "    <tr>\n",
       "      <th>C</th>\n",
       "      <td>1</td>\n",
       "    </tr>\n",
       "    <tr>\n",
       "      <th>D</th>\n",
       "      <td>1</td>\n",
       "    </tr>\n",
       "  </tbody>\n",
       "</table>\n",
       "</div>"
      ],
      "text/plain": [
       "       weights\n",
       "faces         \n",
       "A            1\n",
       "B            1\n",
       "C            1\n",
       "D            1"
      ]
     },
     "execution_count": 23,
     "metadata": {},
     "output_type": "execute_result"
    }
   ],
   "source": [
    "import pandas as pd\n",
    "\n",
    "# Create a simple 4x2 DataFrame\n",
    "data = {\n",
    "    'faces': ['A', 'B', 'C', 'D'],\n",
    "    'weights': [1, 1, 1, 1]\n",
    "}\n",
    "df = pd.DataFrame(data)\n",
    "df = df.set_index('faces')\n",
    "df"
   ]
  },
  {
   "cell_type": "code",
   "execution_count": 24,
   "id": "0f921389-bd6e-4983-bb6b-401d90f7916f",
   "metadata": {
    "tags": []
   },
   "outputs": [
    {
     "data": {
      "text/plain": [
       "{'A': {'weights': 1},\n",
       " 'B': {'weights': 1},\n",
       " 'C': {'weights': 1},\n",
       " 'D': {'weights': 1}}"
      ]
     },
     "execution_count": 24,
     "metadata": {},
     "output_type": "execute_result"
    }
   ],
   "source": [
    "df_dict = df.to_dict('index')\n",
    "df_dict"
   ]
  },
  {
   "cell_type": "code",
   "execution_count": 25,
   "id": "898225ed-9236-4133-a454-e36d03090d05",
   "metadata": {
    "tags": []
   },
   "outputs": [],
   "source": [
    "face = 'B'\n",
    "nwt = 5\n",
    "nwt = {'weights' : 5}"
   ]
  },
  {
   "cell_type": "code",
   "execution_count": 26,
   "id": "2e12bffb-58d3-4592-a127-18d12bd0fc2f",
   "metadata": {
    "tags": []
   },
   "outputs": [
    {
     "data": {
      "text/plain": [
       "{'A': {'weights': 1},\n",
       " 'B': {'weights': 5},\n",
       " 'C': {'weights': 1},\n",
       " 'D': {'weights': 1}}"
      ]
     },
     "execution_count": 26,
     "metadata": {},
     "output_type": "execute_result"
    }
   ],
   "source": [
    "df_dict[face] = nwt\n",
    "df_dict"
   ]
  },
  {
   "cell_type": "code",
   "execution_count": 27,
   "id": "abea7b14-5231-420e-ac2f-cdfc3ec0f8ee",
   "metadata": {
    "tags": []
   },
   "outputs": [
    {
     "data": {
      "text/html": [
       "<div>\n",
       "<style scoped>\n",
       "    .dataframe tbody tr th:only-of-type {\n",
       "        vertical-align: middle;\n",
       "    }\n",
       "\n",
       "    .dataframe tbody tr th {\n",
       "        vertical-align: top;\n",
       "    }\n",
       "\n",
       "    .dataframe thead th {\n",
       "        text-align: right;\n",
       "    }\n",
       "</style>\n",
       "<table border=\"1\" class=\"dataframe\">\n",
       "  <thead>\n",
       "    <tr style=\"text-align: right;\">\n",
       "      <th></th>\n",
       "      <th>weights</th>\n",
       "    </tr>\n",
       "  </thead>\n",
       "  <tbody>\n",
       "    <tr>\n",
       "      <th>A</th>\n",
       "      <td>1</td>\n",
       "    </tr>\n",
       "    <tr>\n",
       "      <th>B</th>\n",
       "      <td>5</td>\n",
       "    </tr>\n",
       "    <tr>\n",
       "      <th>C</th>\n",
       "      <td>1</td>\n",
       "    </tr>\n",
       "    <tr>\n",
       "      <th>D</th>\n",
       "      <td>1</td>\n",
       "    </tr>\n",
       "  </tbody>\n",
       "</table>\n",
       "</div>"
      ],
      "text/plain": [
       "   weights\n",
       "A        1\n",
       "B        5\n",
       "C        1\n",
       "D        1"
      ]
     },
     "execution_count": 27,
     "metadata": {},
     "output_type": "execute_result"
    }
   ],
   "source": [
    "gamestats = pd.DataFrame.from_dict(df_dict, orient = 'index')\n",
    "gamestats\n",
    "                        "
   ]
  },
  {
   "cell_type": "code",
   "execution_count": null,
   "id": "3d3fcf5f-19a8-4b8f-8fc7-7547cef9aadd",
   "metadata": {},
   "outputs": [],
   "source": []
  },
  {
   "cell_type": "code",
   "execution_count": null,
   "id": "3c835aa5-9d2e-4196-8f11-66f6a7bcf0e9",
   "metadata": {},
   "outputs": [],
   "source": [
    "        stats_dict = self._gamestats.to_dict('index')\n",
    "        stats_dict['self.face'] = self.nwt\n",
    "        self._gamestats = pd.DataFrame.from_dict(stat_dict, orient = 'index')\n",
    "        print(self._gamestats()) # production only; take out at the end"
   ]
  }
 ],
 "metadata": {
  "kernelspec": {
   "display_name": "Python 3",
   "language": "python",
   "name": "python3"
  },
  "language_info": {
   "codemirror_mode": {
    "name": "ipython",
    "version": 3
   },
   "file_extension": ".py",
   "mimetype": "text/x-python",
   "name": "python",
   "nbconvert_exporter": "python",
   "pygments_lexer": "ipython3",
   "version": "3.11.4"
  }
 },
 "nbformat": 4,
 "nbformat_minor": 5
}
