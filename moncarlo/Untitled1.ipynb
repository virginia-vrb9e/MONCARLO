{
 "cells": [
  {
   "cell_type": "markdown",
   "id": "3586ac44-eb3a-4bf0-b38f-6602eb5ac0ef",
   "metadata": {
    "tags": []
   },
   "source": [
    "#### lambda x\n",
    "\n",
    "This code is a lambda function that performs sorting on rows of a pandas DataFrame or Series. Specifically:\n",
    "\n",
    "```python\n",
    "lambda x: tuple(sorted(x)), axis=1\n",
    "```\n",
    "\n",
    "It does the following:\n",
    "\n",
    "1. `lambda x: ...` defines an anonymous function that takes a parameter `x`\n",
    "2. `sorted(x)` sorts the elements of `x` in ascending order\n",
    "3. `tuple(sorted(x))` converts the sorted result into a tuple (which is hashable, unlike a list)\n",
    "4. `axis=1` specifies that this function should be applied across rows (horizontally)\n",
    "\n",
    "This type of code is typically used with pandas' `apply()` method to transform data row-wise. For example, in your Monte Carlo simulation context, it could be used to:\n",
    "\n",
    "- Sort the faces that appear in each roll (to identify combinations regardless of order)\n",
    "- Create a consistent representation of outcomes for grouping or counting\n",
    "- Prepare data for identifying unique combinations of outcomes\n",
    "\n",
    "The full usage would look something like:\n",
    "```python\n",
    "df.apply(lambda x: tuple(sorted(x)), axis=1)\n",
    "```\n",
    "\n",
    "This creates sorted tuples representing each row's values, which could then be used for counting combinations (rather than permutations) of outcomes."
   ]
  },
  {
   "cell_type": "code",
   "execution_count": null,
   "id": "bd797e52-fd81-4afb-8f6e-3ac5dcb76689",
   "metadata": {},
   "outputs": [],
   "source": []
  },
  {
   "cell_type": "markdown",
   "id": "fc65eb41-b750-4157-ab95-cc7264b0035a",
   "metadata": {},
   "source": [
    "#### To count permutations instead of combinations, \n",
    "you would need to remove the sorting step since permutations care about the order of elements. You could modify the code like this:\n",
    "\n",
    "```python\n",
    "lambda x: tuple(x), axis=1\n",
    "```\n",
    "\n",
    "The key differences are:\n",
    "\n",
    "1. **Combinations** (with sorting): `lambda x: tuple(sorted(x)), axis=1`\n",
    "   - Order doesn't matter\n",
    "   - `[1, 2, 3]` and `[3, 1, 2]` are considered the same combination\n",
    "   - Used when you only care about which elements appeared together\n",
    "\n",
    "2. **Permutations** (without sorting): `lambda x: tuple(x), axis=1`\n",
    "   - Order matters\n",
    "   - `[1, 2, 3]` and `[3, 1, 2]` are considered different permutations\n",
    "   - Used when the sequence or arrangement is important\n",
    "\n",
    "In your Monte Carlo simulation:\n",
    "- For the `combos()` method, you'd use the sorted version to count unique combinations regardless of order\n",
    "- For the `permutations()` method, you'd use the unsorted version to count unique ordered arrangements\n",
    "\n",
    "When applying these in your full code, it might look like:\n",
    "\n",
    "```python\n",
    "# For combinations (order doesn't matter)\n",
    "combination_counts = df.apply(lambda x: tuple(sorted(x)), axis=1).value_counts()\n",
    "\n",
    "# For permutations (order matters)\n",
    "permutation_counts = df.apply(lambda x: tuple(x), axis=1).value_counts()\n",
    "```\n",
    "\n",
    "This allows you to count both how many times specific combinations of faces appeared (regardless of order) and how many times specific permutations (ordered arrangements) appeared in your simulation."
   ]
  },
  {
   "cell_type": "code",
   "execution_count": null,
   "id": "bbf031a9-e80c-453c-9ec8-b4019c10ad52",
   "metadata": {},
   "outputs": [],
   "source": []
  },
  {
   "cell_type": "markdown",
   "id": "248f9c02-e246-45db-87c0-32e19978e756",
   "metadata": {},
   "source": [
    "Permutations are arrangements of elements where the order matters. In mathematics and statistics, a permutation represents a specific sequence or ordering of items.\n",
    "\n",
    "Key characteristics of permutations:\n",
    "\n",
    "1. **Order matters**: Unlike combinations, where only the selection of elements matters, in permutations the specific arrangement is important.\n",
    "\n",
    "2. **Mathematical definition**: For a set of n distinct objects, there are n! (n factorial) different ways to arrange them in sequence.\n",
    "\n",
    "3. **Example**: With dice showing faces A, B, and C:\n",
    "   - [A, B, C], [A, C, B], [B, A, C], [B, C, A], [C, A, B], and [C, B, A] are all different permutations\n",
    "   - There are 3! = 6 possible permutations of these three elements\n",
    "\n",
    "4. **In your Monte Carlo context**: When counting permutations in your simulation, you'd be tracking how many times each specific ordered arrangement of faces appeared when rolling multiple dice.\n",
    "\n",
    "5. **Formula**: The number of permutations of r elements taken from a set of n elements is:\n",
    "   P(n,r) = n! / (n-r)!\n",
    "\n",
    "For your `permutations()` method in the `MonCarloAnalyzer` class, you'd identify and count each unique ordered sequence of dice faces that appeared in your simulation."
   ]
  },
  {
   "cell_type": "code",
   "execution_count": null,
   "id": "9683dd68-10a6-42c1-88e2-64e8c170aa8f",
   "metadata": {},
   "outputs": [],
   "source": []
  },
  {
   "cell_type": "markdown",
   "id": "cc96e8ae-0013-4b2b-8d10-33fc7095073b",
   "metadata": {},
   "source": [
    "Yes, the `tuple()` in `tuple(sorted(x))` is essential for several important reasons:\n",
    "\n",
    "1. **Hashability**: Most critically, pandas' `value_counts()` requires hashable objects as keys. Lists in Python are mutable and therefore not hashable, but tuples are immutable and hashable. This is necessary when you want to count occurrences of each unique combination.\n",
    "\n",
    "2. **Dictionary keys**: Similarly, if you want to use these sorted sequences as keys in a dictionary (common for counting), you need them to be hashable.\n",
    "\n",
    "3. **Immutability guarantee**: Converting to a tuple ensures that the sorted order remains fixed and can't be accidentally modified later in your code.\n",
    "\n",
    "For example, if you tried to use lists directly:\n",
    "\n",
    "```python\n",
    "# This would fail\n",
    "df.apply(lambda x: sorted(x), axis=1).value_counts()  # Error: unhashable type: 'list'\n",
    "\n",
    "# This works\n",
    "df.apply(lambda x: tuple(sorted(x)), axis=1).value_counts()  # Success\n",
    "```\n",
    "\n",
    "If you didn't need to count or use the results as dictionary keys, you could potentially omit the `tuple()` conversion. However, in the context of analyzing combinations in Monte Carlo simulations, it's almost always necessary since you typically want to count the frequency of each unique combination."
   ]
  },
  {
   "cell_type": "code",
   "execution_count": 2,
   "id": "7926e623-5495-4995-9ae5-4a8d43f3b875",
   "metadata": {
    "tags": []
   },
   "outputs": [],
   "source": [
    "# What does 'hashable' mean?"
   ]
  },
  {
   "cell_type": "markdown",
   "id": "3be5e9ef-ebb8-4cd7-bed5-b2625dda2ef7",
   "metadata": {},
   "source": [
    "In Python, \"hashable\" means an object can be converted into a fixed-size integer value (a hash) that can be used to look up the object in constant time. Hashability is a fundamental concept that determines which objects can be used as keys in dictionaries or as elements in sets.\n",
    "\n",
    "Here's what makes an object hashable:\n",
    "\n",
    "1. **Immutability**: A hashable object must be immutable (cannot be changed after creation). Since its value never changes, its hash value remains consistent.\n",
    "\n",
    "2. **`__hash__` method**: Hashable objects implement a `__hash__()` method that returns the same value throughout the object's lifetime.\n",
    "\n",
    "3. **Equality comparison**: Hashable objects also need an `__eq__()` method. Two objects that compare equal must have the same hash value.\n",
    "\n",
    "In Python:\n",
    "- Immutable types like integers, floats, strings, and tuples (if they contain only hashable elements) are hashable\n",
    "- Mutable types like lists, dictionaries, and sets are not hashable\n",
    "\n",
    "Why this matters for your Monte Carlo code:\n",
    "```python\n",
    "# This will fail\n",
    "counts = df.apply(lambda x: sorted(x), axis=1).value_counts()  # Error!\n",
    "\n",
    "# This works\n",
    "counts = df.apply(lambda x: tuple(sorted(x)), axis=1).value_counts()  # Success!\n",
    "```\n",
    "\n",
    "The `value_counts()` method needs to use each unique combination as a dictionary key internally, which requires hashability. Converting your sorted lists to tuples makes them hashable and suitable for counting.\n",
    "\n",
    "This is essential for implementing both your `combos()` and `permutations()` methods in the `MonCarloAnalyzer` class, as both need to count unique arrangements of dice faces."
   ]
  },
  {
   "cell_type": "code",
   "execution_count": null,
   "id": "f07dd445-5a0f-48f4-9001-c573ae08b846",
   "metadata": {},
   "outputs": [],
   "source": []
  },
  {
   "cell_type": "markdown",
   "id": "3c94852f-6bb6-4dc4-b29a-28fa55acbd4a",
   "metadata": {},
   "source": [
    "No, when used with `.apply()` in a DataFrame context, the lambda function processes each row of the DataFrame and returns a tuple for each row, not a tuple of Series objects.\n",
    "\n",
    "Here's what happens step by step when you use:\n",
    "\n",
    "```python\n",
    "df.apply(lambda x: tuple(sorted(x)), axis=1)\n",
    "```\n",
    "\n",
    "1. The pandas `apply()` method passes each row (`axis=1`) of the DataFrame to the lambda function as a Series object named `x`\n",
    "\n",
    "2. For each row, the function:\n",
    "   - `sorted(x)` sorts the values in that row (returns a list)\n",
    "   - `tuple(sorted(x))` converts the sorted list to a tuple\n",
    "\n",
    "3. The final result is a Series containing one tuple per row of the original DataFrame\n",
    "\n",
    "For example, with a dice roll DataFrame like:\n",
    "```\n",
    "   Die1  Die2  Die3\n",
    "0    A     B     C\n",
    "1    C     A     B\n",
    "2    B     B     A\n",
    "```\n",
    "\n",
    "After applying `lambda x: tuple(sorted(x)), axis=1`, you'd get:\n",
    "```\n",
    "0    (A, B, C)\n",
    "1    (A, B, C)\n",
    "2    (A, B, B)\n",
    "```\n",
    "\n",
    "Then when you call `.value_counts()` on this result, you'd get:\n",
    "```\n",
    "(A, B, C)    2\n",
    "(A, B, B)    1\n",
    "```\n",
    "\n",
    "So rather than creating \"a tuple of Series,\" it creates \"a Series of tuples,\" where each tuple represents the sorted values from one row."
   ]
  },
  {
   "cell_type": "raw",
   "id": "2306bd38-7dbf-40cb-93a4-b4fc56fb071a",
   "metadata": {},
   "source": [
    "pandas.Series.to_frame\n",
    "Series.to_frame(name=<no_default>)[source]\n",
    "Convert Series to DataFrame.\n",
    "\n",
    "Parameters\n",
    ":\n",
    "name\n",
    "object, optional\n",
    "The passed name should substitute for the series name (if it has one).\n",
    "\n",
    "Returns\n",
    ":\n",
    "DataFrame\n",
    "DataFrame representation of Series.\n",
    "\n",
    "Examples"
   ]
  },
  {
   "cell_type": "raw",
   "id": "a3f46d59-7c49-4d35-86b4-125db5dc8f59",
   "metadata": {
    "tags": []
   },
   "source": [
    ">>> s = pd.Series([\"a\", \"b\", \"c\"],\n",
    "...               name=\"vals\")\n",
    ">>> s.to_frame()\n",
    "\n",
    "vals\n",
    "0    a\n",
    "1    b\n",
    "2    c\n"
   ]
  },
  {
   "cell_type": "markdown",
   "id": "2777f759-1a86-4cdb-8c24-ace5aff5155b",
   "metadata": {
    "tags": []
   },
   "source": [
    "In Pandas, the inplace parameter, available in many DataFrame methods, controls whether the operation modifies the DataFrame directly or returns a new DataFrame with the changes.\n",
    "\n",
    "#### inplace=False (default):\n",
    ".\n",
    "The method returns a new DataFrame, leaving the original DataFrame unchanged. To retain the changes, you need to assign the result to a variable, which can overwrite the original DataFrame if desired.\n",
    "\n",
    "#### inplace=True:\n",
    ".\n",
    "The method modifies the original DataFrame directly, and returns None. This avoids the need for reassignment but alters the original data structure.\n",
    "While inplace=True might seem more convenient, it is generally discouraged for several reasons:\n",
    "\n",
    "#### Unexpected side effects:\n",
    "Modifying a DataFrame in place can lead to unexpected behavior, especially when multiple variables reference the same DataFrame. Changes made with inplace=True will affect all references.\n",
    "\n",
    "#### Reduced flexibility:\n",
    "Using inplace=False allows for method chaining and easier experimentation, as you can see the result of each operation without altering the original data.\n",
    "\n",
    "#### No performance benefit:\n",
    "In most cases, inplace=True does not offer significant performance improvements and can even be slower due to the way Pandas handles in-place operations internally.\n",
    "\n",
    "#### Potential deprecation:\n",
    "The inplace parameter might be deprecated in future versions of Pandas, as it is considered problematic and unnecessary.\n",
    "\n",
    "**It's recommended to consistently use inplace=False** and assign the result of operations to a new variable or overwrite the existing one. This approach promotes cleaner, more predictable code and avoids potential issues associated with in-place modifications."
   ]
  },
  {
   "cell_type": "markdown",
   "id": "d40dfe66-cc1c-47ad-850c-19f05c7def4d",
   "metadata": {},
   "source": []
  },
  {
   "cell_type": "code",
   "execution_count": null,
   "id": "7d42cdfd-4904-4d6e-a932-93fb05554d0b",
   "metadata": {},
   "outputs": [],
   "source": []
  }
 ],
 "metadata": {
  "kernelspec": {
   "display_name": "Python 3",
   "language": "python",
   "name": "python3"
  },
  "language_info": {
   "codemirror_mode": {
    "name": "ipython",
    "version": 3
   },
   "file_extension": ".py",
   "mimetype": "text/x-python",
   "name": "python",
   "nbconvert_exporter": "python",
   "pygments_lexer": "ipython3",
   "version": "3.11.4"
  }
 },
 "nbformat": 4,
 "nbformat_minor": 5
}
