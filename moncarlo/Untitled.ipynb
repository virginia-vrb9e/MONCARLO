{
 "cells": [
  {
   "cell_type": "raw",
   "id": "e3a39040-4eae-47c7-be8c-7e30009026f0",
   "metadata": {},
   "source": [
    "```\n",
    "list of objects:\n",
    "    \n",
    "    self.game = game  #__init__ (analyzer)\n",
    "    "
   ]
  }
 ],
 "metadata": {
  "kernelspec": {
   "display_name": "Python 3",
   "language": "python",
   "name": "python3"
  },
  "language_info": {
   "codemirror_mode": {
    "name": "ipython",
    "version": 3
   },
   "file_extension": ".py",
   "mimetype": "text/x-python",
   "name": "python",
   "nbconvert_exporter": "python",
   "pygments_lexer": "ipython3",
   "version": "3.11.4"
  }
 },
 "nbformat": 4,
 "nbformat_minor": 5
}
