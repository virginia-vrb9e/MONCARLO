{
 "cells": [
  {
   "cell_type": "code",
   "execution_count": 3,
   "id": "ce68c238-5b58-4ebb-b8b6-32d9bd478d33",
   "metadata": {
    "tags": []
   },
   "outputs": [
    {
     "data": {
      "text/plain": [
       "[[{'A': 1, 'B': 1, 'C': 1, 'D': 1}], [{'A': 1, 'B': 1, 'C': 1, 'D': 1}]]"
      ]
     },
     "execution_count": 3,
     "metadata": {},
     "output_type": "execute_result"
    }
   ],
   "source": [
    "die1 = [{'A': 1, 'B':1, 'C':1, 'D':1}]\n",
    "die2 = [{'A': 1, 'B':1, 'C':1, 'D':1}]\n",
    "dice = [die1, die2]\n",
    "dice"
   ]
  },
  {
   "cell_type": "code",
   "execution_count": 4,
   "id": "76223400-b43d-4fc2-9eb3-292b17708362",
   "metadata": {
    "tags": []
   },
   "outputs": [
    {
     "data": {
      "text/plain": [
       "{0: 'aa', 1: 'bb', 2: 'cc', 3: 'dd'}"
      ]
     },
     "execution_count": 4,
     "metadata": {},
     "output_type": "execute_result"
    }
   ],
   "source": [
    "l1=['aa','bb','cc','dd']\n",
    "enum=enumerate(l1)\n",
    "enum\n",
    "\n",
    "d=dict((i,j) for i,j in enum)\n",
    "d"
   ]
  },
  {
   "cell_type": "code",
   "execution_count": null,
   "id": "6e8a9cb4-37aa-4f67-bfc6-91333c4bbf10",
   "metadata": {},
   "outputs": [],
   "source": []
  }
 ],
 "metadata": {
  "kernelspec": {
   "display_name": "Python 3",
   "language": "python",
   "name": "python3"
  },
  "language_info": {
   "codemirror_mode": {
    "name": "ipython",
    "version": 3
   },
   "file_extension": ".py",
   "mimetype": "text/x-python",
   "name": "python",
   "nbconvert_exporter": "python",
   "pygments_lexer": "ipython3",
   "version": "3.11.4"
  }
 },
 "nbformat": 4,
 "nbformat_minor": 5
}
